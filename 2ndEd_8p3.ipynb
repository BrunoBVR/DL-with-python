{
  "nbformat": 4,
  "nbformat_minor": 0,
  "metadata": {
    "colab": {
      "name": "2ndEd-8p3.ipynb",
      "provenance": [],
      "mount_file_id": "1nzks2wTS2QO5KS42O6_qq9NICHmQ2PcJ",
      "authorship_tag": "ABX9TyPZDltPibZFHKsy3Uez/ARg",
      "include_colab_link": true
    },
    "kernelspec": {
      "name": "python3",
      "display_name": "Python 3"
    },
    "language_info": {
      "name": "python"
    },
    "accelerator": "GPU"
  },
  "cells": [
    {
      "cell_type": "markdown",
      "metadata": {
        "id": "view-in-github",
        "colab_type": "text"
      },
      "source": [
        "<a href=\"https://colab.research.google.com/github/BrunoBVR/DL-with-python/blob/main/2ndEd_8p3.ipynb\" target=\"_parent\"><img src=\"https://colab.research.google.com/assets/colab-badge.svg\" alt=\"Open In Colab\"/></a>"
      ]
    },
    {
      "cell_type": "markdown",
      "metadata": {
        "id": "wc4KLCROru0K"
      },
      "source": [
        "# Leveraging a pretrained model\n",
        "\n",
        "## Feature extraction with a pretrained model"
      ]
    },
    {
      "cell_type": "code",
      "metadata": {
        "id": "BYHpf3rFsY3o"
      },
      "source": [
        "from tensorflow import keras\n",
        "from tensorflow.keras import layers"
      ],
      "execution_count": 1,
      "outputs": []
    },
    {
      "cell_type": "code",
      "metadata": {
        "colab": {
          "base_uri": "https://localhost:8080/"
        },
        "id": "TwbvNbtWr6L3",
        "outputId": "67e35b34-0448-4738-ae09-b2a4d532995c"
      },
      "source": [
        "# Instantiating the VGG16 convolutional base\n",
        "conv_base = keras.applications.vgg16.VGG16(\n",
        "    weights=\"imagenet\",\n",
        "    include_top=False,\n",
        "    input_shape=(180, 180, 3)\n",
        ")\n"
      ],
      "execution_count": 2,
      "outputs": [
        {
          "output_type": "stream",
          "name": "stdout",
          "text": [
            "Downloading data from https://storage.googleapis.com/tensorflow/keras-applications/vgg16/vgg16_weights_tf_dim_ordering_tf_kernels_notop.h5\n",
            "58892288/58889256 [==============================] - 1s 0us/step\n",
            "58900480/58889256 [==============================] - 1s 0us/step\n"
          ]
        }
      ]
    },
    {
      "cell_type": "code",
      "metadata": {
        "colab": {
          "base_uri": "https://localhost:8080/"
        },
        "id": "cN7lQzDZso4J",
        "outputId": "0ae27eae-5cab-4eb1-8140-2a3c2690dbdb"
      },
      "source": [
        "conv_base.summary()"
      ],
      "execution_count": 3,
      "outputs": [
        {
          "output_type": "stream",
          "name": "stdout",
          "text": [
            "Model: \"vgg16\"\n",
            "_________________________________________________________________\n",
            "Layer (type)                 Output Shape              Param #   \n",
            "=================================================================\n",
            "input_1 (InputLayer)         [(None, 180, 180, 3)]     0         \n",
            "_________________________________________________________________\n",
            "block1_conv1 (Conv2D)        (None, 180, 180, 64)      1792      \n",
            "_________________________________________________________________\n",
            "block1_conv2 (Conv2D)        (None, 180, 180, 64)      36928     \n",
            "_________________________________________________________________\n",
            "block1_pool (MaxPooling2D)   (None, 90, 90, 64)        0         \n",
            "_________________________________________________________________\n",
            "block2_conv1 (Conv2D)        (None, 90, 90, 128)       73856     \n",
            "_________________________________________________________________\n",
            "block2_conv2 (Conv2D)        (None, 90, 90, 128)       147584    \n",
            "_________________________________________________________________\n",
            "block2_pool (MaxPooling2D)   (None, 45, 45, 128)       0         \n",
            "_________________________________________________________________\n",
            "block3_conv1 (Conv2D)        (None, 45, 45, 256)       295168    \n",
            "_________________________________________________________________\n",
            "block3_conv2 (Conv2D)        (None, 45, 45, 256)       590080    \n",
            "_________________________________________________________________\n",
            "block3_conv3 (Conv2D)        (None, 45, 45, 256)       590080    \n",
            "_________________________________________________________________\n",
            "block3_pool (MaxPooling2D)   (None, 22, 22, 256)       0         \n",
            "_________________________________________________________________\n",
            "block4_conv1 (Conv2D)        (None, 22, 22, 512)       1180160   \n",
            "_________________________________________________________________\n",
            "block4_conv2 (Conv2D)        (None, 22, 22, 512)       2359808   \n",
            "_________________________________________________________________\n",
            "block4_conv3 (Conv2D)        (None, 22, 22, 512)       2359808   \n",
            "_________________________________________________________________\n",
            "block4_pool (MaxPooling2D)   (None, 11, 11, 512)       0         \n",
            "_________________________________________________________________\n",
            "block5_conv1 (Conv2D)        (None, 11, 11, 512)       2359808   \n",
            "_________________________________________________________________\n",
            "block5_conv2 (Conv2D)        (None, 11, 11, 512)       2359808   \n",
            "_________________________________________________________________\n",
            "block5_conv3 (Conv2D)        (None, 11, 11, 512)       2359808   \n",
            "_________________________________________________________________\n",
            "block5_pool (MaxPooling2D)   (None, 5, 5, 512)         0         \n",
            "=================================================================\n",
            "Total params: 14,714,688\n",
            "Trainable params: 14,714,688\n",
            "Non-trainable params: 0\n",
            "_________________________________________________________________\n"
          ]
        }
      ]
    },
    {
      "cell_type": "markdown",
      "metadata": {
        "id": "RHwuWscvssfQ"
      },
      "source": [
        "The final feature map has shape (5, 5, 512) . That's the feature map on top of which we'll stick a densely connected classifier.\n",
        "\n",
        "## FAST FEATURE EXTRACTION WITHOUT DATA AUGMENTATION\n",
        "\n",
        "We’ll start by extracting features as NumPy arrays by calling the predict() method of the conv_base model on our training, validation, and testing datasets."
      ]
    },
    {
      "cell_type": "code",
      "metadata": {
        "id": "aJ1lMZ-Os2XS"
      },
      "source": [
        "from tensorflow.keras.utils import image_dataset_from_directory"
      ],
      "execution_count": 4,
      "outputs": []
    },
    {
      "cell_type": "code",
      "metadata": {
        "id": "kv52SZgetgHL"
      },
      "source": [
        "import os, shutil, pathlib\n",
        "\n",
        "new_base_dir = pathlib.Path(\"/content/drive/MyDrive/DL-With-Python/Chapter8-2ndEd/cats_vs_dogs_small\")"
      ],
      "execution_count": 5,
      "outputs": []
    },
    {
      "cell_type": "code",
      "metadata": {
        "colab": {
          "base_uri": "https://localhost:8080/"
        },
        "id": "eoyuRvy_tbyJ",
        "outputId": "feadb163-5074-40be-b0c5-a079f7086139"
      },
      "source": [
        "train_dataset = image_dataset_from_directory(\n",
        "  new_base_dir / \"train\",\n",
        "  image_size=(180, 180),\n",
        "  batch_size=32)\n",
        "validation_dataset = image_dataset_from_directory(\n",
        "  new_base_dir / \"validation\",\n",
        "  image_size=(180, 180),\n",
        "  batch_size=32)\n",
        "test_dataset = image_dataset_from_directory(\n",
        "  new_base_dir / \"test\",\n",
        "  image_size=(180, 180),\n",
        "  batch_size=32)"
      ],
      "execution_count": 6,
      "outputs": [
        {
          "output_type": "stream",
          "name": "stdout",
          "text": [
            "Found 2000 files belonging to 2 classes.\n",
            "Found 1000 files belonging to 2 classes.\n",
            "Found 2000 files belonging to 2 classes.\n"
          ]
        }
      ]
    },
    {
      "cell_type": "markdown",
      "metadata": {
        "id": "AZgTrVrrtp3a"
      },
      "source": [
        "Extracting the VGG16 features and corresponding labels"
      ]
    },
    {
      "cell_type": "code",
      "metadata": {
        "id": "PV5L3egbt-mu"
      },
      "source": [
        "import numpy as np\n",
        "\n",
        "def get_features_and_labels(dataset):\n",
        "  all_features = []\n",
        "  all_labels = []\n",
        "  for images, labels in dataset:\n",
        "    preprocessed_images = keras.applications.vgg16.preprocess_input(images)\n",
        "    features = conv_base.predict(preprocessed_images)\n",
        "    all_features.append(features)\n",
        "    all_labels.append(labels)\n",
        "  return np.concatenate(all_features), np.concatenate(all_labels)\n",
        "\n",
        "train_features, train_labels = get_features_and_labels(train_dataset)\n",
        "val_features, val_labels = get_features_and_labels(validation_dataset)\n",
        "test_features, test_labels = get_features_and_labels(test_dataset)"
      ],
      "execution_count": 7,
      "outputs": []
    },
    {
      "cell_type": "markdown",
      "metadata": {
        "id": "ngzUjKGouWjQ"
      },
      "source": [
        "Defining and training the densely connected classifier:"
      ]
    },
    {
      "cell_type": "code",
      "metadata": {
        "colab": {
          "base_uri": "https://localhost:8080/"
        },
        "id": "8MIw-AkeuddW",
        "outputId": "792bb9a4-94a2-45f9-f87c-a67c13ee097e"
      },
      "source": [
        "inputs = keras.Input(shape=(5, 5, 512))\n",
        "\n",
        "x = layers.Flatten()(inputs)\n",
        "x = layers.Dense(256)(x)\n",
        "x = layers.Dropout(0.5)(x)\n",
        "\n",
        "outputs = layers.Dense(1, activation=\"sigmoid\")(x)\n",
        "\n",
        "model = keras.Model(inputs, outputs)\n",
        "\n",
        "model.compile(loss='binary_crossentropy',\n",
        "              optimizer=\"rmsprop\",\n",
        "              metrics=[\"accuracy\"])\n",
        "\n",
        "callbacks = [\n",
        "             keras.callbacks.ModelCheckpoint(\n",
        "                 filepath='/content/drive/MyDrive/DL-With-Python/Chapter8-2ndEd/feature_extration.keras',\n",
        "                 save_best_only=True,\n",
        "                 monitor='val_loss'\n",
        "             )\n",
        "]\n",
        "\n",
        "history = model.fit(\n",
        "    train_features, train_labels,\n",
        "    epochs=20,\n",
        "    validation_data=(val_features, val_labels),\n",
        "    callbacks=callbacks\n",
        ")"
      ],
      "execution_count": 10,
      "outputs": [
        {
          "output_type": "stream",
          "name": "stdout",
          "text": [
            "Epoch 1/20\n",
            "63/63 [==============================] - 1s 12ms/step - loss: 13.0895 - accuracy: 0.9235 - val_loss: 3.4474 - val_accuracy: 0.9750\n",
            "Epoch 2/20\n",
            "63/63 [==============================] - 1s 10ms/step - loss: 3.1127 - accuracy: 0.9780 - val_loss: 4.7985 - val_accuracy: 0.9740\n",
            "Epoch 3/20\n",
            "63/63 [==============================] - 1s 9ms/step - loss: 2.4159 - accuracy: 0.9805 - val_loss: 4.4297 - val_accuracy: 0.9780\n",
            "Epoch 4/20\n",
            "63/63 [==============================] - 1s 9ms/step - loss: 1.1829 - accuracy: 0.9895 - val_loss: 4.4640 - val_accuracy: 0.9760\n",
            "Epoch 5/20\n",
            "63/63 [==============================] - 1s 9ms/step - loss: 0.5704 - accuracy: 0.9945 - val_loss: 3.6509 - val_accuracy: 0.9750\n",
            "Epoch 6/20\n",
            "63/63 [==============================] - 1s 8ms/step - loss: 0.9631 - accuracy: 0.9930 - val_loss: 8.4921 - val_accuracy: 0.9650\n",
            "Epoch 7/20\n",
            "63/63 [==============================] - 1s 8ms/step - loss: 0.2927 - accuracy: 0.9970 - val_loss: 5.2703 - val_accuracy: 0.9750\n",
            "Epoch 8/20\n",
            "63/63 [==============================] - 1s 8ms/step - loss: 0.1177 - accuracy: 0.9975 - val_loss: 4.5081 - val_accuracy: 0.9790\n",
            "Epoch 9/20\n",
            "63/63 [==============================] - 1s 8ms/step - loss: 0.7137 - accuracy: 0.9960 - val_loss: 4.0955 - val_accuracy: 0.9770\n",
            "Epoch 10/20\n",
            "63/63 [==============================] - 1s 9ms/step - loss: 0.0218 - accuracy: 0.9995 - val_loss: 10.0535 - val_accuracy: 0.9630\n",
            "Epoch 11/20\n",
            "63/63 [==============================] - 1s 9ms/step - loss: 0.0966 - accuracy: 0.9985 - val_loss: 3.7652 - val_accuracy: 0.9750\n",
            "Epoch 12/20\n",
            "63/63 [==============================] - 1s 9ms/step - loss: 0.0791 - accuracy: 0.9990 - val_loss: 3.9405 - val_accuracy: 0.9750\n",
            "Epoch 13/20\n",
            "63/63 [==============================] - 1s 8ms/step - loss: 0.2821 - accuracy: 0.9975 - val_loss: 4.0103 - val_accuracy: 0.9770\n",
            "Epoch 14/20\n",
            "63/63 [==============================] - 1s 10ms/step - loss: 0.0288 - accuracy: 0.9990 - val_loss: 4.8675 - val_accuracy: 0.9740\n",
            "Epoch 15/20\n",
            "63/63 [==============================] - 1s 8ms/step - loss: 7.0097e-22 - accuracy: 1.0000 - val_loss: 4.8675 - val_accuracy: 0.9740\n",
            "Epoch 16/20\n",
            "63/63 [==============================] - 1s 9ms/step - loss: 0.3802 - accuracy: 0.9965 - val_loss: 8.2396 - val_accuracy: 0.9700\n",
            "Epoch 17/20\n",
            "63/63 [==============================] - 1s 8ms/step - loss: 0.2357 - accuracy: 0.9975 - val_loss: 4.4364 - val_accuracy: 0.9750\n",
            "Epoch 18/20\n",
            "63/63 [==============================] - 1s 9ms/step - loss: 3.4266e-18 - accuracy: 1.0000 - val_loss: 4.4364 - val_accuracy: 0.9750\n",
            "Epoch 19/20\n",
            "63/63 [==============================] - 1s 9ms/step - loss: 5.7519e-13 - accuracy: 1.0000 - val_loss: 4.4364 - val_accuracy: 0.9750\n",
            "Epoch 20/20\n",
            "63/63 [==============================] - 1s 9ms/step - loss: 0.1791 - accuracy: 0.9990 - val_loss: 4.8301 - val_accuracy: 0.9750\n"
          ]
        }
      ]
    },
    {
      "cell_type": "code",
      "metadata": {
        "colab": {
          "base_uri": "https://localhost:8080/",
          "height": 545
        },
        "id": "IQgkbIMeyXhV",
        "outputId": "dfbff0e9-2a8e-4163-ef2a-4da88c360c87"
      },
      "source": [
        "# Plotting results\n",
        "import matplotlib.pyplot as plt\n",
        "\n",
        "acc = history.history[\"accuracy\"]\n",
        "val_acc = history.history[\"val_accuracy\"]\n",
        "loss = history.history[\"loss\"]\n",
        "val_loss = history.history[\"val_loss\"]\n",
        "epochs = range(1, len(acc) + 1)\n",
        "plt.plot(epochs, acc, \"bo\", label=\"Training accuracy\")\n",
        "plt.plot(epochs, val_acc, \"b\", label=\"Validation accuracy\")\n",
        "plt.title(\"Training and validation accuracy\")\n",
        "plt.legend()\n",
        "plt.figure()\n",
        "plt.plot(epochs, loss, \"bo\", label=\"Training loss\")\n",
        "plt.plot(epochs, val_loss, \"b\", label=\"Validation loss\")\n",
        "plt.title(\"Training and validation loss\")\n",
        "plt.legend()\n",
        "plt.show()"
      ],
      "execution_count": 11,
      "outputs": [
        {
          "output_type": "display_data",
          "data": {
            "image/png": "[encoded data removed]",
            "text/plain": [
              "<Figure size 432x288 with 1 Axes>"
            ]
          },
          "metadata": {
            "needs_background": "light"
          }
        },
        {
          "output_type": "display_data",
          "data": {
            "image/png": "[encoded data removed]",
            "text/plain": [
              "<Figure size 432x288 with 1 Axes>"
            ]
          },
          "metadata": {
            "needs_background": "light"
          }
        }
      ]
    },
    {
      "cell_type": "markdown",
      "metadata": {
        "id": "UII4z05B0RIw"
      },
      "source": [
        "## FAST FEATURE EXTRACTION WITH DATA AUGMENTATION"
      ]
    },
    {
      "cell_type": "code",
      "metadata": {
        "id": "7qFlyduX0ar2"
      },
      "source": [
        "# Instantiating and freezing the VGG16 convolutional base\n",
        "conv_base = keras.applications.vgg16.VGG16(\n",
        "  weights=\"imagenet\",\n",
        "  include_top=False)\n",
        "conv_base.trainable = False"
      ],
      "execution_count": 12,
      "outputs": []
    },
    {
      "cell_type": "code",
      "metadata": {
        "colab": {
          "base_uri": "https://localhost:8080/"
        },
        "id": "xYoeQuU30oH9",
        "outputId": "7c1aaae7-1800-4013-9df0-cc34fb5de9b6"
      },
      "source": [
        "# Printing the list of trainable weights before and after freezing\n",
        "conv_base.trainable = True\n",
        "print(\"This is the number of trainable weights \"\n",
        "      \"before freezing the conv base:\", len(conv_base.trainable_weights))\n"
      ],
      "execution_count": 13,
      "outputs": [
        {
          "output_type": "stream",
          "name": "stdout",
          "text": [
            "This is the number of trainable weights before freezing the conv base: 26\n"
          ]
        }
      ]
    },
    {
      "cell_type": "code",
      "metadata": {
        "colab": {
          "base_uri": "https://localhost:8080/"
        },
        "id": "2RsexBhV0zSc",
        "outputId": "8338ef4e-6c80-47cd-a858-cb18ecfe1dc4"
      },
      "source": [
        "conv_base.trainable = False\n",
        "print(\"This is the number of trainable weights \"\n",
        "      \"after freezing the conv base:\", len(conv_base.trainable_weights))"
      ],
      "execution_count": 14,
      "outputs": [
        {
          "output_type": "stream",
          "name": "stdout",
          "text": [
            "This is the number of trainable weights after freezing the conv base: 0\n"
          ]
        }
      ]
    },
    {
      "cell_type": "code",
      "metadata": {
        "id": "uVgmQRwj04XL"
      },
      "source": [
        "# Adding a data augmentation stage and a classifier to the convolutional base\n",
        "data_augmentation = keras.Sequential(\n",
        "    [\n",
        "      layers.RandomFlip(\"horizontal\"),\n",
        "      layers.RandomRotation(0.1),\n",
        "      layers.RandomZoom(0.2),\n",
        "    ]\n",
        ")\n",
        "\n",
        "\n",
        "inputs = keras.Input(shape=(180, 180, 3))\n",
        "\n",
        "x = data_augmentation(inputs)\n",
        "\n",
        "x = keras.applications.vgg16.preprocess_input(x)\n",
        "\n",
        "x = conv_base(x)\n",
        "x = layers.Flatten()(x)\n",
        "x = layers.Dense(256)(x)\n",
        "x = layers.Dropout(0.5)(x)\n",
        "\n",
        "outputs = layers.Dense(1, activation=\"sigmoid\")(x)\n",
        "\n",
        "model = keras.Model(inputs, outputs)\n",
        "model.compile(loss=\"binary_crossentropy\",\n",
        "              optimizer=\"rmsprop\",\n",
        "              metrics=[\"accuracy\"])"
      ],
      "execution_count": 15,
      "outputs": []
    },
    {
      "cell_type": "code",
      "metadata": {
        "colab": {
          "base_uri": "https://localhost:8080/"
        },
        "id": "Gxvt8Jbi1Qxr",
        "outputId": "b5ccaa55-5a64-4d4e-8752-c47e2d93cfef"
      },
      "source": [
        "callbacks = [\n",
        "    keras.callbacks.ModelCheckpoint(\n",
        "        filepath=\"/content/drive/MyDrive/DL-With-Python/Chapter8-2ndEd/feature_extraction_with_data_augmentation.keras\",\n",
        "        save_best_only=True,\n",
        "        monitor=\"val_loss\")\n",
        "]\n",
        "\n",
        "history = model.fit(\n",
        "    train_dataset,\n",
        "    epochs=50,\n",
        "    validation_data=validation_dataset,\n",
        "    callbacks=callbacks)"
      ],
      "execution_count": 16,
      "outputs": [
        {
          "output_type": "stream",
          "name": "stdout",
          "text": [
            "Epoch 1/50\n",
            "63/63 [==============================] - 21s 298ms/step - loss: 23.1177 - accuracy: 0.8915 - val_loss: 6.6233 - val_accuracy: 0.9640\n",
            "Epoch 2/50\n",
            "63/63 [==============================] - 19s 289ms/step - loss: 7.8178 - accuracy: 0.9440 - val_loss: 4.8225 - val_accuracy: 0.9760\n",
            "Epoch 3/50\n",
            "63/63 [==============================] - 19s 291ms/step - loss: 6.5728 - accuracy: 0.9520 - val_loss: 4.1128 - val_accuracy: 0.9780\n",
            "Epoch 4/50\n",
            "63/63 [==============================] - 19s 292ms/step - loss: 7.1245 - accuracy: 0.9540 - val_loss: 5.2448 - val_accuracy: 0.9760\n",
            "Epoch 5/50\n",
            "63/63 [==============================] - 19s 291ms/step - loss: 5.2002 - accuracy: 0.9580 - val_loss: 5.5322 - val_accuracy: 0.9740\n",
            "Epoch 6/50\n",
            "63/63 [==============================] - 19s 291ms/step - loss: 4.0422 - accuracy: 0.9655 - val_loss: 7.3059 - val_accuracy: 0.9660\n",
            "Epoch 7/50\n",
            "63/63 [==============================] - 19s 291ms/step - loss: 4.2272 - accuracy: 0.9715 - val_loss: 3.6260 - val_accuracy: 0.9760\n",
            "Epoch 8/50\n",
            "63/63 [==============================] - 19s 292ms/step - loss: 1.8370 - accuracy: 0.9795 - val_loss: 7.4240 - val_accuracy: 0.9600\n",
            "Epoch 9/50\n",
            "63/63 [==============================] - 19s 290ms/step - loss: 3.8446 - accuracy: 0.9750 - val_loss: 3.6606 - val_accuracy: 0.9780\n",
            "Epoch 10/50\n",
            "63/63 [==============================] - 19s 293ms/step - loss: 3.2880 - accuracy: 0.9690 - val_loss: 5.4944 - val_accuracy: 0.9690\n",
            "Epoch 11/50\n",
            "63/63 [==============================] - 19s 292ms/step - loss: 2.6873 - accuracy: 0.9745 - val_loss: 4.9124 - val_accuracy: 0.9730\n",
            "Epoch 12/50\n",
            "63/63 [==============================] - 19s 295ms/step - loss: 2.6030 - accuracy: 0.9785 - val_loss: 3.2849 - val_accuracy: 0.9710\n",
            "Epoch 13/50\n",
            "63/63 [==============================] - 19s 292ms/step - loss: 2.3701 - accuracy: 0.9790 - val_loss: 2.0487 - val_accuracy: 0.9810\n",
            "Epoch 14/50\n",
            "63/63 [==============================] - 19s 291ms/step - loss: 2.0546 - accuracy: 0.9770 - val_loss: 5.3897 - val_accuracy: 0.9680\n",
            "Epoch 15/50\n",
            "63/63 [==============================] - 19s 293ms/step - loss: 1.7979 - accuracy: 0.9805 - val_loss: 3.3629 - val_accuracy: 0.9740\n",
            "Epoch 16/50\n",
            "63/63 [==============================] - 19s 291ms/step - loss: 1.9458 - accuracy: 0.9780 - val_loss: 4.7950 - val_accuracy: 0.9720\n",
            "Epoch 17/50\n",
            "63/63 [==============================] - 19s 293ms/step - loss: 1.1750 - accuracy: 0.9825 - val_loss: 3.5520 - val_accuracy: 0.9770\n",
            "Epoch 18/50\n",
            "63/63 [==============================] - 19s 291ms/step - loss: 0.7966 - accuracy: 0.9880 - val_loss: 6.2360 - val_accuracy: 0.9700\n",
            "Epoch 19/50\n",
            "63/63 [==============================] - 19s 291ms/step - loss: 1.8179 - accuracy: 0.9780 - val_loss: 4.7742 - val_accuracy: 0.9720\n",
            "Epoch 20/50\n",
            "63/63 [==============================] - 19s 291ms/step - loss: 2.4104 - accuracy: 0.9780 - val_loss: 3.9968 - val_accuracy: 0.9760\n",
            "Epoch 21/50\n",
            "63/63 [==============================] - 19s 290ms/step - loss: 1.4767 - accuracy: 0.9805 - val_loss: 2.8738 - val_accuracy: 0.9840\n",
            "Epoch 22/50\n",
            "63/63 [==============================] - 19s 290ms/step - loss: 1.5015 - accuracy: 0.9835 - val_loss: 2.4670 - val_accuracy: 0.9830\n",
            "Epoch 23/50\n",
            "63/63 [==============================] - 19s 289ms/step - loss: 1.0953 - accuracy: 0.9805 - val_loss: 3.9021 - val_accuracy: 0.9750\n",
            "Epoch 24/50\n",
            "63/63 [==============================] - 19s 292ms/step - loss: 1.7280 - accuracy: 0.9800 - val_loss: 2.8978 - val_accuracy: 0.9810\n",
            "Epoch 25/50\n",
            "63/63 [==============================] - 19s 290ms/step - loss: 1.1664 - accuracy: 0.9815 - val_loss: 3.6404 - val_accuracy: 0.9760\n",
            "Epoch 26/50\n",
            "63/63 [==============================] - 19s 292ms/step - loss: 0.7716 - accuracy: 0.9860 - val_loss: 3.6543 - val_accuracy: 0.9770\n",
            "Epoch 27/50\n",
            "63/63 [==============================] - 19s 291ms/step - loss: 1.1978 - accuracy: 0.9815 - val_loss: 4.9845 - val_accuracy: 0.9670\n",
            "Epoch 28/50\n",
            "63/63 [==============================] - 19s 290ms/step - loss: 0.7226 - accuracy: 0.9885 - val_loss: 4.9730 - val_accuracy: 0.9700\n",
            "Epoch 29/50\n",
            "63/63 [==============================] - 19s 292ms/step - loss: 1.1273 - accuracy: 0.9840 - val_loss: 2.6369 - val_accuracy: 0.9770\n",
            "Epoch 30/50\n",
            "63/63 [==============================] - 19s 290ms/step - loss: 0.5741 - accuracy: 0.9900 - val_loss: 3.1267 - val_accuracy: 0.9740\n",
            "Epoch 31/50\n",
            "63/63 [==============================] - 19s 291ms/step - loss: 0.8296 - accuracy: 0.9890 - val_loss: 4.1895 - val_accuracy: 0.9720\n",
            "Epoch 32/50\n",
            "63/63 [==============================] - 19s 292ms/step - loss: 1.0996 - accuracy: 0.9830 - val_loss: 4.9963 - val_accuracy: 0.9700\n",
            "Epoch 33/50\n",
            "63/63 [==============================] - 19s 292ms/step - loss: 0.5747 - accuracy: 0.9880 - val_loss: 2.2861 - val_accuracy: 0.9760\n",
            "Epoch 34/50\n",
            "63/63 [==============================] - 19s 292ms/step - loss: 0.5393 - accuracy: 0.9905 - val_loss: 2.5350 - val_accuracy: 0.9750\n",
            "Epoch 35/50\n",
            "63/63 [==============================] - 19s 293ms/step - loss: 0.9201 - accuracy: 0.9880 - val_loss: 2.2294 - val_accuracy: 0.9810\n",
            "Epoch 36/50\n",
            "63/63 [==============================] - 19s 291ms/step - loss: 0.6956 - accuracy: 0.9880 - val_loss: 1.9484 - val_accuracy: 0.9800\n",
            "Epoch 37/50\n",
            "63/63 [==============================] - 19s 292ms/step - loss: 0.5818 - accuracy: 0.9885 - val_loss: 2.5428 - val_accuracy: 0.9730\n",
            "Epoch 38/50\n",
            "63/63 [==============================] - 19s 291ms/step - loss: 0.6775 - accuracy: 0.9860 - val_loss: 2.4131 - val_accuracy: 0.9780\n",
            "Epoch 39/50\n",
            "63/63 [==============================] - 19s 292ms/step - loss: 0.7935 - accuracy: 0.9865 - val_loss: 3.5543 - val_accuracy: 0.9680\n",
            "Epoch 40/50\n",
            "63/63 [==============================] - 19s 290ms/step - loss: 0.7950 - accuracy: 0.9875 - val_loss: 4.3773 - val_accuracy: 0.9690\n",
            "Epoch 41/50\n",
            "63/63 [==============================] - 19s 292ms/step - loss: 0.9176 - accuracy: 0.9840 - val_loss: 2.6817 - val_accuracy: 0.9760\n",
            "Epoch 42/50\n",
            "63/63 [==============================] - 19s 292ms/step - loss: 0.7186 - accuracy: 0.9870 - val_loss: 2.0687 - val_accuracy: 0.9760\n",
            "Epoch 43/50\n",
            "63/63 [==============================] - 19s 291ms/step - loss: 0.4779 - accuracy: 0.9920 - val_loss: 1.6865 - val_accuracy: 0.9800\n",
            "Epoch 44/50\n",
            "63/63 [==============================] - 19s 291ms/step - loss: 0.8383 - accuracy: 0.9855 - val_loss: 2.0879 - val_accuracy: 0.9820\n",
            "Epoch 45/50\n",
            "63/63 [==============================] - 19s 291ms/step - loss: 0.7088 - accuracy: 0.9875 - val_loss: 2.2135 - val_accuracy: 0.9770\n",
            "Epoch 46/50\n",
            "63/63 [==============================] - 19s 291ms/step - loss: 0.3797 - accuracy: 0.9920 - val_loss: 2.1413 - val_accuracy: 0.9780\n",
            "Epoch 47/50\n",
            "63/63 [==============================] - 19s 291ms/step - loss: 0.3343 - accuracy: 0.9875 - val_loss: 2.3736 - val_accuracy: 0.9790\n",
            "Epoch 48/50\n",
            "63/63 [==============================] - 19s 291ms/step - loss: 0.5820 - accuracy: 0.9890 - val_loss: 2.0242 - val_accuracy: 0.9820\n",
            "Epoch 49/50\n",
            "63/63 [==============================] - 19s 291ms/step - loss: 0.8011 - accuracy: 0.9865 - val_loss: 2.0843 - val_accuracy: 0.9780\n",
            "Epoch 50/50\n",
            "63/63 [==============================] - 19s 292ms/step - loss: 0.5952 - accuracy: 0.9915 - val_loss: 1.8299 - val_accuracy: 0.9800\n"
          ]
        }
      ]
    },
    {
      "cell_type": "code",
      "metadata": {
        "colab": {
          "base_uri": "https://localhost:8080/",
          "height": 545
        },
        "id": "NJgkMka_1jwN",
        "outputId": "fc960cbf-79ab-491b-c819-fd775335fdf8"
      },
      "source": [
        "# Plotting results\n",
        "import matplotlib.pyplot as plt\n",
        "\n",
        "acc = history.history[\"accuracy\"]\n",
        "val_acc = history.history[\"val_accuracy\"]\n",
        "loss = history.history[\"loss\"]\n",
        "val_loss = history.history[\"val_loss\"]\n",
        "epochs = range(1, len(acc) + 1)\n",
        "plt.plot(epochs, acc, \"bo\", label=\"Training accuracy\")\n",
        "plt.plot(epochs, val_acc, \"b\", label=\"Validation accuracy\")\n",
        "plt.title(\"Training and validation accuracy\")\n",
        "plt.legend()\n",
        "plt.figure()\n",
        "plt.plot(epochs, loss, \"bo\", label=\"Training loss\")\n",
        "plt.plot(epochs, val_loss, \"b\", label=\"Validation loss\")\n",
        "plt.title(\"Training and validation loss\")\n",
        "plt.legend()\n",
        "plt.show()"
      ],
      "execution_count": 17,
      "outputs": [
        {
          "output_type": "display_data",
          "data": {
            "image/png": "[encoded data removed]",
            "text/plain": [
              "<Figure size 432x288 with 1 Axes>"
            ]
          },
          "metadata": {
            "needs_background": "light"
          }
        },
        {
          "output_type": "display_data",
          "data": {
            "image/png": "[encoded data removed]",
            "text/plain": [
              "<Figure size 432x288 with 1 Axes>"
            ]
          },
          "metadata": {
            "needs_background": "light"
          }
        }
      ]
    },
    {
      "cell_type": "code",
      "metadata": {
        "colab": {
          "base_uri": "https://localhost:8080/"
        },
        "id": "6L97LcWx1nPu",
        "outputId": "2e8ee3a1-ad18-40e7-a63a-15d812ba72da"
      },
      "source": [
        "# Evaluating the model on the test set\n",
        "test_model = keras.models.load_model(\n",
        "\"/content/drive/MyDrive/DL-With-Python/Chapter8-2ndEd/feature_extraction_with_data_augmentation.keras\")\n",
        "test_loss, test_acc = test_model.evaluate(test_dataset)\n",
        "print(f\"Test accuracy: {test_acc:.3f}\")"
      ],
      "execution_count": 18,
      "outputs": [
        {
          "output_type": "stream",
          "name": "stdout",
          "text": [
            "63/63 [==============================] - 12s 181ms/step - loss: 2.7318 - accuracy: 0.9760\n",
            "Test accuracy: 0.976\n"
          ]
        }
      ]
    },
    {
      "cell_type": "markdown",
      "metadata": {
        "id": "7cIH2HSy5dHq"
      },
      "source": [
        "## Fine-tuning a pretrained model"
      ]
    },
    {
      "cell_type": "code",
      "metadata": {
        "colab": {
          "base_uri": "https://localhost:8080/"
        },
        "id": "Pc85V1717UYO",
        "outputId": "b0df1b57-63ed-4972-a115-c66029211883"
      },
      "source": [
        "conv_base.summary()"
      ],
      "execution_count": 19,
      "outputs": [
        {
          "output_type": "stream",
          "name": "stdout",
          "text": [
            "Model: \"vgg16\"\n",
            "_________________________________________________________________\n",
            "Layer (type)                 Output Shape              Param #   \n",
            "=================================================================\n",
            "input_5 (InputLayer)         [(None, None, None, 3)]   0         \n",
            "_________________________________________________________________\n",
            "block1_conv1 (Conv2D)        (None, None, None, 64)    1792      \n",
            "_________________________________________________________________\n",
            "block1_conv2 (Conv2D)        (None, None, None, 64)    36928     \n",
            "_________________________________________________________________\n",
            "block1_pool (MaxPooling2D)   (None, None, None, 64)    0         \n",
            "_________________________________________________________________\n",
            "block2_conv1 (Conv2D)        (None, None, None, 128)   73856     \n",
            "_________________________________________________________________\n",
            "block2_conv2 (Conv2D)        (None, None, None, 128)   147584    \n",
            "_________________________________________________________________\n",
            "block2_pool (MaxPooling2D)   (None, None, None, 128)   0         \n",
            "_________________________________________________________________\n",
            "block3_conv1 (Conv2D)        (None, None, None, 256)   295168    \n",
            "_________________________________________________________________\n",
            "block3_conv2 (Conv2D)        (None, None, None, 256)   590080    \n",
            "_________________________________________________________________\n",
            "block3_conv3 (Conv2D)        (None, None, None, 256)   590080    \n",
            "_________________________________________________________________\n",
            "block3_pool (MaxPooling2D)   (None, None, None, 256)   0         \n",
            "_________________________________________________________________\n",
            "block4_conv1 (Conv2D)        (None, None, None, 512)   1180160   \n",
            "_________________________________________________________________\n",
            "block4_conv2 (Conv2D)        (None, None, None, 512)   2359808   \n",
            "_________________________________________________________________\n",
            "block4_conv3 (Conv2D)        (None, None, None, 512)   2359808   \n",
            "_________________________________________________________________\n",
            "block4_pool (MaxPooling2D)   (None, None, None, 512)   0         \n",
            "_________________________________________________________________\n",
            "block5_conv1 (Conv2D)        (None, None, None, 512)   2359808   \n",
            "_________________________________________________________________\n",
            "block5_conv2 (Conv2D)        (None, None, None, 512)   2359808   \n",
            "_________________________________________________________________\n",
            "block5_conv3 (Conv2D)        (None, None, None, 512)   2359808   \n",
            "_________________________________________________________________\n",
            "block5_pool (MaxPooling2D)   (None, None, None, 512)   0         \n",
            "=================================================================\n",
            "Total params: 14,714,688\n",
            "Trainable params: 0\n",
            "Non-trainable params: 14,714,688\n",
            "_________________________________________________________________\n"
          ]
        }
      ]
    },
    {
      "cell_type": "markdown",
      "metadata": {
        "id": "0L1vMNFP7Wop"
      },
      "source": [
        "We’ll fine-tune the last three convolutional layers, which means all layers up to block4_pool should be frozen, and the layers block5_conv1 , block5_conv2 , and block5_conv3 should be trainable."
      ]
    },
    {
      "cell_type": "code",
      "metadata": {
        "id": "fn4ynjU07f8Y"
      },
      "source": [
        "# Freezing all layers until the fourth from the last\n",
        "conv_base.trainable = True\n",
        "for layer in conv_base.layers[:-4]:\n",
        "  layer.trainable = False"
      ],
      "execution_count": 20,
      "outputs": []
    },
    {
      "cell_type": "code",
      "metadata": {
        "colab": {
          "base_uri": "https://localhost:8080/"
        },
        "id": "_0mmDw6O7lgr",
        "outputId": "81c24eb8-fecb-489c-e404-c090214be0e8"
      },
      "source": [
        "# Fine-tuning\n",
        "model.compile(loss=\"binary_crossentropy\",\n",
        "              optimizer=keras.optimizers.RMSprop(learning_rate=1e-5),\n",
        "              metrics=[\"accuracy\"])\n",
        "\n",
        "callbacks = [\n",
        "  keras.callbacks.ModelCheckpoint(\n",
        "      filepath=\"/content/drive/MyDrive/DL-With-Python/Chapter8-2ndEd/fine_tuning.keras\",\n",
        "      save_best_only=True,\n",
        "      monitor=\"val_loss\")\n",
        "]\n",
        "\n",
        "history = model.fit(\n",
        "    train_dataset,\n",
        "    epochs=30,\n",
        "    validation_data=validation_dataset,\n",
        "    callbacks=callbacks)"
      ],
      "execution_count": 21,
      "outputs": [
        {
          "output_type": "stream",
          "name": "stdout",
          "text": [
            "Epoch 1/30\n",
            "63/63 [==============================] - 24s 325ms/step - loss: 0.2107 - accuracy: 0.9935 - val_loss: 1.6643 - val_accuracy: 0.9820\n",
            "Epoch 2/30\n",
            "63/63 [==============================] - 21s 318ms/step - loss: 0.5774 - accuracy: 0.9890 - val_loss: 2.4017 - val_accuracy: 0.9780\n",
            "Epoch 3/30\n",
            "63/63 [==============================] - 21s 323ms/step - loss: 0.5853 - accuracy: 0.9915 - val_loss: 2.2949 - val_accuracy: 0.9750\n",
            "Epoch 4/30\n",
            "63/63 [==============================] - 21s 320ms/step - loss: 0.3216 - accuracy: 0.9920 - val_loss: 2.1730 - val_accuracy: 0.9780\n",
            "Epoch 5/30\n",
            "63/63 [==============================] - 21s 321ms/step - loss: 0.2219 - accuracy: 0.9930 - val_loss: 2.3205 - val_accuracy: 0.9780\n",
            "Epoch 6/30\n",
            "63/63 [==============================] - 21s 321ms/step - loss: 0.4765 - accuracy: 0.9905 - val_loss: 2.3194 - val_accuracy: 0.9750\n",
            "Epoch 7/30\n",
            "63/63 [==============================] - 21s 320ms/step - loss: 0.2314 - accuracy: 0.9930 - val_loss: 2.8915 - val_accuracy: 0.9730\n",
            "Epoch 8/30\n",
            "63/63 [==============================] - 21s 321ms/step - loss: 0.1851 - accuracy: 0.9935 - val_loss: 2.7502 - val_accuracy: 0.9750\n",
            "Epoch 9/30\n",
            "63/63 [==============================] - 21s 320ms/step - loss: 0.2930 - accuracy: 0.9920 - val_loss: 1.9066 - val_accuracy: 0.9760\n",
            "Epoch 10/30\n",
            "63/63 [==============================] - 21s 322ms/step - loss: 0.2270 - accuracy: 0.9935 - val_loss: 1.6952 - val_accuracy: 0.9790\n",
            "Epoch 11/30\n",
            "63/63 [==============================] - 21s 319ms/step - loss: 0.3472 - accuracy: 0.9905 - val_loss: 1.7225 - val_accuracy: 0.9810\n",
            "Epoch 12/30\n",
            "63/63 [==============================] - 21s 320ms/step - loss: 0.2557 - accuracy: 0.9930 - val_loss: 2.0154 - val_accuracy: 0.9790\n",
            "Epoch 13/30\n",
            "63/63 [==============================] - 21s 321ms/step - loss: 0.1703 - accuracy: 0.9940 - val_loss: 1.9777 - val_accuracy: 0.9790\n",
            "Epoch 14/30\n",
            "63/63 [==============================] - 21s 325ms/step - loss: 0.1270 - accuracy: 0.9965 - val_loss: 1.7748 - val_accuracy: 0.9790\n",
            "Epoch 15/30\n",
            "63/63 [==============================] - 21s 320ms/step - loss: 0.2699 - accuracy: 0.9925 - val_loss: 1.9573 - val_accuracy: 0.9770\n",
            "Epoch 16/30\n",
            "63/63 [==============================] - 21s 319ms/step - loss: 0.1838 - accuracy: 0.9940 - val_loss: 2.0613 - val_accuracy: 0.9760\n",
            "Epoch 17/30\n",
            "63/63 [==============================] - 21s 319ms/step - loss: 0.1621 - accuracy: 0.9920 - val_loss: 1.6971 - val_accuracy: 0.9800\n",
            "Epoch 18/30\n",
            "63/63 [==============================] - 21s 321ms/step - loss: 0.2387 - accuracy: 0.9940 - val_loss: 1.7512 - val_accuracy: 0.9780\n",
            "Epoch 19/30\n",
            "63/63 [==============================] - 21s 318ms/step - loss: 0.1027 - accuracy: 0.9965 - val_loss: 1.5713 - val_accuracy: 0.9780\n",
            "Epoch 20/30\n",
            "63/63 [==============================] - 21s 319ms/step - loss: 0.1112 - accuracy: 0.9955 - val_loss: 1.9347 - val_accuracy: 0.9780\n",
            "Epoch 21/30\n",
            "63/63 [==============================] - 21s 318ms/step - loss: 0.1057 - accuracy: 0.9955 - val_loss: 1.4640 - val_accuracy: 0.9800\n",
            "Epoch 22/30\n",
            "63/63 [==============================] - 21s 317ms/step - loss: 0.0315 - accuracy: 0.9990 - val_loss: 1.8023 - val_accuracy: 0.9780\n",
            "Epoch 23/30\n",
            "63/63 [==============================] - 21s 322ms/step - loss: 0.1175 - accuracy: 0.9975 - val_loss: 1.1519 - val_accuracy: 0.9800\n",
            "Epoch 24/30\n",
            "63/63 [==============================] - 25s 384ms/step - loss: 0.0598 - accuracy: 0.9960 - val_loss: 1.4253 - val_accuracy: 0.9780\n",
            "Epoch 25/30\n",
            "63/63 [==============================] - 21s 318ms/step - loss: 0.0369 - accuracy: 0.9970 - val_loss: 1.8234 - val_accuracy: 0.9770\n",
            "Epoch 26/30\n",
            "63/63 [==============================] - 21s 320ms/step - loss: 0.1652 - accuracy: 0.9945 - val_loss: 1.3026 - val_accuracy: 0.9810\n",
            "Epoch 27/30\n",
            "63/63 [==============================] - 21s 319ms/step - loss: 0.0473 - accuracy: 0.9980 - val_loss: 1.3529 - val_accuracy: 0.9760\n",
            "Epoch 28/30\n",
            "63/63 [==============================] - 21s 319ms/step - loss: 0.0712 - accuracy: 0.9955 - val_loss: 1.4081 - val_accuracy: 0.9790\n",
            "Epoch 29/30\n",
            "63/63 [==============================] - 21s 319ms/step - loss: 0.0456 - accuracy: 0.9960 - val_loss: 1.2384 - val_accuracy: 0.9810\n",
            "Epoch 30/30\n",
            "63/63 [==============================] - 21s 318ms/step - loss: 0.0305 - accuracy: 0.9980 - val_loss: 1.5080 - val_accuracy: 0.9770\n"
          ]
        }
      ]
    },
    {
      "cell_type": "code",
      "metadata": {
        "colab": {
          "base_uri": "https://localhost:8080/"
        },
        "id": "cxTklJmN8AHN",
        "outputId": "6b8cea35-b2a1-4a68-f3a7-48369f39f168"
      },
      "source": [
        "model = keras.models.load_model(\"/content/drive/MyDrive/DL-With-Python/Chapter8-2ndEd/fine_tuning.keras\")\n",
        "test_loss, test_acc = model.evaluate(test_dataset)\n",
        "print(f\"Test accuracy: {test_acc:.3f}\")"
      ],
      "execution_count": 23,
      "outputs": [
        {
          "output_type": "stream",
          "name": "stdout",
          "text": [
            "63/63 [==============================] - 12s 182ms/step - loss: 1.4083 - accuracy: 0.9770\n",
            "Test accuracy: 0.977\n"
          ]
        }
      ]
    },
    {
      "cell_type": "code",
      "metadata": {
        "id": "2o6tB4o68jd_"
      },
      "source": [
        ""
      ],
      "execution_count": null,
      "outputs": []
    }
  ]
}