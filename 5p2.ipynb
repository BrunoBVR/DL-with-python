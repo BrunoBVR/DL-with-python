{
  "nbformat": 4,
  "nbformat_minor": 0,
  "metadata": {
    "colab": {
      "name": "5p2.ipynb",
      "provenance": [],
      "collapsed_sections": [],
      "mount_file_id": "10p-0SE56NfC6u9bwcWs3dE3GFrek5DMh",
      "authorship_tag": "ABX9TyOi3HTqwEVYyPMDbEm7RgbH",
      "include_colab_link": true
    },
    "kernelspec": {
      "name": "python3",
      "display_name": "Python 3"
    },
    "language_info": {
      "name": "python"
    },
    "accelerator": "GPU"
  },
  "cells": [
    {
      "cell_type": "markdown",
      "metadata": {
        "id": "view-in-github",
        "colab_type": "text"
      },
      "source": [
        "<a href=\"https://colab.research.google.com/github/BrunoBVR/DL-with-python/blob/main/5p2.ipynb\" target=\"_parent\"><img src=\"https://colab.research.google.com/assets/colab-badge.svg\" alt=\"Open In Colab\"/></a>"
      ]
    },
    {
      "cell_type": "markdown",
      "metadata": {
        "id": "EFs52qUb67h7"
      },
      "source": [
        "# Training a convnet from scratch on a small dataset\n",
        "\n",
        "Classifying Dogs vs. Cats images.\n",
        "\n",
        "---\n",
        "\n",
        "## Downloading the data\n",
        "\n",
        "This dataset contains 25,000 images of dogs and cats (12,500 from each class) and is 543 MB (compressed). It can be found on Kaggle, [here](https://www.kaggle.com/c/dogs-vs-cats/data).\n",
        "\n"
      ]
    },
    {
      "cell_type": "code",
      "metadata": {
        "colab": {
          "base_uri": "https://localhost:8080/"
        },
        "id": "VOFxfcDjD-gj",
        "outputId": "4c712fa8-a395-42dc-db71-3d2e3176e134"
      },
      "source": [
        "# Mounting drive\n",
        "from google.colab import drive\n",
        "drive.mount('/content/drive')"
      ],
      "execution_count": 1,
      "outputs": [
        {
          "output_type": "stream",
          "name": "stdout",
          "text": [
            "Drive already mounted at /content/drive; to attempt to forcibly remount, call drive.mount(\"/content/drive\", force_remount=True).\n"
          ]
        }
      ]
    },
    {
      "cell_type": "code",
      "metadata": {
        "id": "LCL63Nw0EBhs"
      },
      "source": [
        "# Changing to project folder for download\n",
        "\n",
        "root_path = '/content/drive/MyDrive/DL-With-Python/Chapter5'  #change dir to your project folder\n"
      ],
      "execution_count": 2,
      "outputs": []
    },
    {
      "cell_type": "code",
      "metadata": {
        "id": "aOBDgnHeEc0U"
      },
      "source": [
        "# Upload kaggle.json\n",
        "from google.colab import files\n",
        "files.upload()  #this will prompt you to upload the kaggle.json"
      ],
      "execution_count": null,
      "outputs": []
    },
    {
      "cell_type": "code",
      "metadata": {
        "colab": {
          "base_uri": "https://localhost:8080/"
        },
        "id": "h51ZZC2oEnnv",
        "outputId": "264b3592-3f9a-495c-efbf-26e3f77850fb"
      },
      "source": [
        "# !pip install -q kaggle\n",
        "# !mkdir -p ~/.kaggle\n",
        "# !cp kaggle.json ~/.kaggle/\n",
        "# !ls ~/.kaggle\n",
        "# !chmod 600 /root/.kaggle/kaggle.json  # set permission"
      ],
      "execution_count": null,
      "outputs": [
        {
          "output_type": "stream",
          "name": "stdout",
          "text": [
            "kaggle.json\n"
          ]
        }
      ]
    },
    {
      "cell_type": "code",
      "metadata": {
        "id": "g0AIysWO7EXo"
      },
      "source": [
        "import os, shutil"
      ],
      "execution_count": 3,
      "outputs": []
    },
    {
      "cell_type": "code",
      "metadata": {
        "colab": {
          "base_uri": "https://localhost:8080/"
        },
        "id": "8LNIeHW_7ykI",
        "outputId": "0c8847ca-cf73-4433-98cc-04a3292daf13"
      },
      "source": [
        "# !kaggle competitions download -c dogs-vs-cats -p /content/drive/MyDrive/DL-With-Python/Chapter5"
      ],
      "execution_count": null,
      "outputs": [
        {
          "output_type": "stream",
          "name": "stdout",
          "text": [
            "Warning: Looks like you're using an outdated API Version, please consider updating (server 1.5.12 / client 1.5.4)\n",
            "Downloading test1.zip to /content/drive/MyDrive/DL-With-Python/Chapter5\n",
            "100% 270M/271M [00:03<00:00, 100MB/s] \n",
            "100% 271M/271M [00:03<00:00, 71.2MB/s]\n",
            "Downloading train.zip to /content/drive/MyDrive/DL-With-Python/Chapter5\n",
            " 99% 539M/543M [00:07<00:00, 34.1MB/s]\n",
            "100% 543M/543M [00:07<00:00, 75.5MB/s]\n",
            "Downloading sampleSubmission.csv to /content/drive/MyDrive/DL-With-Python/Chapter5\n",
            "  0% 0.00/86.8k [00:00<?, ?B/s]\n",
            "100% 86.8k/86.8k [00:00<00:00, 781kB/s]\n"
          ]
        }
      ]
    },
    {
      "cell_type": "code",
      "metadata": {
        "id": "jD_CcVk_B1H1"
      },
      "source": [
        "# # Unzip\n",
        "# os.chdir('/content/drive/MyDrive/DL-With-Python/Chapter5')  #change dir\n",
        "# !unzip -q /content/drive/MyDrive/DL-With-Python/Chapter5/train.zip -d train/"
      ],
      "execution_count": null,
      "outputs": []
    },
    {
      "cell_type": "code",
      "metadata": {
        "id": "v9826vjOB6HF"
      },
      "source": [
        "# !unzip -q /content/drive/MyDrive/DL-With-Python/Chapter5/test1.zip -d test/"
      ],
      "execution_count": null,
      "outputs": []
    },
    {
      "cell_type": "markdown",
      "metadata": {
        "id": "MyNGxLYkD9c_"
      },
      "source": [
        "Checking how many training images:"
      ]
    },
    {
      "cell_type": "code",
      "metadata": {
        "colab": {
          "base_uri": "https://localhost:8080/"
        },
        "id": "4osUQggoJKVV",
        "outputId": "6bed12b4-cd4f-4808-c055-3b9808f576d6"
      },
      "source": [
        "print('Images on train set: ', len(os.listdir('/content/drive/MyDrive/DL-With-Python/Chapter5/train/train')))"
      ],
      "execution_count": 5,
      "outputs": [
        {
          "output_type": "stream",
          "name": "stdout",
          "text": [
            "Images on train set:  25000\n"
          ]
        }
      ]
    },
    {
      "cell_type": "markdown",
      "metadata": {
        "id": "Uyln6xb4JWYD"
      },
      "source": [
        "## Copying images to training, validation and test directories\n",
        "\n",
        "> After downloading and uncompressing it, you’ll create a new\n",
        "dataset containing three subsets: a training set with 1,000 samples of each class, a vali-\n",
        "dation set with 500 samples of each class, and a test set with 500 samples of each class."
      ]
    },
    {
      "cell_type": "code",
      "metadata": {
        "id": "rmvILG5RJkId"
      },
      "source": [
        "original_dataset_dir = '/content/drive/MyDrive/DL-With-Python/Chapter5/train/train'\n",
        "\n",
        "# This is where we'll store the smaller dataset\n",
        "base_dir = '/content/drive/MyDrive/DL-With-Python/Chapter5/cats_and_dogs_small'\n",
        "\n",
        "if not os.path.exists(base_dir):\n",
        "  os.mkdir(base_dir)\n",
        "\n",
        "# Directories for training, validation and test splits\n",
        "train_dir = os.path.join(base_dir, 'train')\n",
        "if not os.path.exists(train_dir):\n",
        "  os.mkdir(train_dir)\n",
        "validation_dir = os.path.join(base_dir, 'validation')\n",
        "if not os.path.exists(validation_dir):\n",
        "  os.mkdir(validation_dir)\n",
        "test_dir = os.path.join(base_dir, 'test')\n",
        "if not os.path.exists(test_dir):\n",
        "  os.mkdir(test_dir)\n",
        "\n",
        "# Directory with training cat pictures\n",
        "train_cats_dir = os.path.join(train_dir, 'cats')\n",
        "if not os.path.exists(train_cats_dir):\n",
        "  os.mkdir(train_cats_dir)\n",
        "# Directory with training dog pictures\n",
        "train_dogs_dir = os.path.join(train_dir, 'dogs')\n",
        "if not os.path.exists(train_dogs_dir):\n",
        "  os.mkdir(train_dogs_dir)\n",
        "\n",
        "# Directory with validation cat pictures\n",
        "validation_cats_dir = os.path.join(validation_dir, 'cats')\n",
        "if not os.path.exists(validation_cats_dir):\n",
        "  os.mkdir(validation_cats_dir)\n",
        "# Directory with validation dog pictures\n",
        "validation_dogs_dir = os.path.join(validation_dir, 'dogs')\n",
        "if not os.path.exists(validation_dogs_dir):\n",
        "  os.mkdir(validation_dogs_dir)\n",
        "\n",
        "# Directory with test cat pictures\n",
        "test_cats_dir = os.path.join(test_dir, 'cats')\n",
        "if not os.path.exists(test_cats_dir):\n",
        "  os.mkdir(test_cats_dir)\n",
        "# Directory with test dog pictures\n",
        "test_dogs_dir = os.path.join(test_dir, 'dogs')\n",
        "if not os.path.exists(test_dogs_dir):\n",
        "  os.mkdir(test_dogs_dir)\n",
        "\n",
        "# # Copying first 1000 cat images to train_cats_dir\n",
        "# fnames = ['cat.{}.jpg'.format(i) for i in range(1000)]\n",
        "# for fname in fnames:\n",
        "#   src = os.path.join(original_dataset_dir, fname)\n",
        "#   dst = os.path.join(train_cats_dir, fname)\n",
        "#   shutil.copyfile(src, dst)\n",
        "\n",
        "# # Next 500 images to validation\n",
        "# fnames = ['cat.{}.jpg'.format(i) for i in range(1000,1500)]\n",
        "# for fname in fnames:\n",
        "#   src = os.path.join(original_dataset_dir, fname)\n",
        "#   dst = os.path.join(validation_cats_dir, fname)\n",
        "#   shutil.copyfile(src, dst)\n",
        "\n",
        "# # Next 500 images to test\n",
        "# fnames = ['cat.{}.jpg'.format(i) for i in range(1500,2000)]\n",
        "# for fname in fnames:\n",
        "#   src = os.path.join(original_dataset_dir, fname)\n",
        "#   dst = os.path.join(test_cats_dir, fname)\n",
        "#   shutil.copyfile(src, dst)\n",
        "\n",
        "# # Copying first 1000 dog images to train_dogs_dir\n",
        "# fnames = ['dog.{}.jpg'.format(i) for i in range(1000)]\n",
        "# for fname in fnames:\n",
        "#   src = os.path.join(original_dataset_dir, fname)\n",
        "#   dst = os.path.join(train_dogs_dir, fname)\n",
        "#   shutil.copyfile(src, dst)\n",
        "\n",
        "# # Next 500 images to validation\n",
        "# fnames = ['dog.{}.jpg'.format(i) for i in range(1000,1500)]\n",
        "# for fname in fnames:\n",
        "#   src = os.path.join(original_dataset_dir, fname)\n",
        "#   dst = os.path.join(validation_dogs_dir, fname)\n",
        "#   shutil.copyfile(src, dst)\n",
        "\n",
        "# # Next 500 images to test\n",
        "# fnames = ['dog.{}.jpg'.format(i) for i in range(1500,2000)]\n",
        "# for fname in fnames:\n",
        "#   src = os.path.join(original_dataset_dir, fname)\n",
        "#   dst = os.path.join(test_dogs_dir, fname)\n",
        "#   shutil.copyfile(src, dst)"
      ],
      "execution_count": 7,
      "outputs": []
    },
    {
      "cell_type": "markdown",
      "metadata": {
        "id": "qMCaVXm1MOOO"
      },
      "source": [
        "Sanity check for files in our splits:"
      ]
    },
    {
      "cell_type": "code",
      "metadata": {
        "colab": {
          "base_uri": "https://localhost:8080/"
        },
        "id": "QIOKhGSwObRo",
        "outputId": "84b72f5f-84e0-4097-9157-bab69960de36"
      },
      "source": [
        "print('total training cat images:', len(os.listdir(train_cats_dir)))\n",
        "\n",
        "print('total training dog images:', len(os.listdir(train_dogs_dir)))\n",
        "\n",
        "print('total validation cat images:', len(os.listdir(validation_cats_dir)))\n",
        "\n",
        "print('total validation dog images:', len(os.listdir(validation_dogs_dir)))\n",
        "\n",
        "print('total test cat images:', len(os.listdir(test_cats_dir)))\n",
        "\n",
        "print('total test dog images:', len(os.listdir(test_dogs_dir)))"
      ],
      "execution_count": 8,
      "outputs": [
        {
          "output_type": "stream",
          "name": "stdout",
          "text": [
            "total training cat images: 1000\n",
            "total training dog images: 1000\n",
            "total validation cat images: 500\n",
            "total validation dog images: 500\n",
            "total test cat images: 500\n",
            "total test dog images: 500\n"
          ]
        }
      ]
    },
    {
      "cell_type": "markdown",
      "metadata": {
        "id": "z1rOLRL6OinY"
      },
      "source": [
        "## Building the network"
      ]
    },
    {
      "cell_type": "code",
      "metadata": {
        "id": "oNtI_3UhOqzh"
      },
      "source": [
        "from tensorflow.keras import layers, models"
      ],
      "execution_count": 9,
      "outputs": []
    },
    {
      "cell_type": "code",
      "metadata": {
        "id": "wVJ6WRtxOydI"
      },
      "source": [
        "model = models.Sequential()\n",
        "model.add(layers.Conv2D(32, (3, 3), activation='relu',\n",
        "                        input_shape = (150, 150, 3)))\n",
        "model.add(layers.MaxPooling2D((2, 2)))\n",
        "model.add(layers.Conv2D(64, (3, 3), activation = 'relu'))\n",
        "model.add(layers.MaxPooling2D((2, 2)))\n",
        "model.add(layers.Conv2D(128, (3, 3), activation = 'relu'))\n",
        "model.add(layers.MaxPooling2D((2, 2)))\n",
        "model.add(layers.Conv2D(128, (3, 3), activation = 'relu'))\n",
        "model.add(layers.MaxPooling2D((2, 2)))\n",
        "model.add(layers.Flatten())\n",
        "model.add(layers.Dense(512, activation = 'relu'))\n",
        "model.add(layers.Dense(1, activation = 'sigmoid'))"
      ],
      "execution_count": 10,
      "outputs": []
    },
    {
      "cell_type": "code",
      "metadata": {
        "colab": {
          "base_uri": "https://localhost:8080/"
        },
        "id": "x7slNTlfPwdT",
        "outputId": "f37c552b-844a-4165-efe9-e848811a4350"
      },
      "source": [
        "model.summary()"
      ],
      "execution_count": 11,
      "outputs": [
        {
          "output_type": "stream",
          "name": "stdout",
          "text": [
            "Model: \"sequential\"\n",
            "_________________________________________________________________\n",
            "Layer (type)                 Output Shape              Param #   \n",
            "=================================================================\n",
            "conv2d (Conv2D)              (None, 148, 148, 32)      896       \n",
            "_________________________________________________________________\n",
            "max_pooling2d (MaxPooling2D) (None, 74, 74, 32)        0         \n",
            "_________________________________________________________________\n",
            "conv2d_1 (Conv2D)            (None, 72, 72, 64)        18496     \n",
            "_________________________________________________________________\n",
            "max_pooling2d_1 (MaxPooling2 (None, 36, 36, 64)        0         \n",
            "_________________________________________________________________\n",
            "conv2d_2 (Conv2D)            (None, 34, 34, 128)       73856     \n",
            "_________________________________________________________________\n",
            "max_pooling2d_2 (MaxPooling2 (None, 17, 17, 128)       0         \n",
            "_________________________________________________________________\n",
            "conv2d_3 (Conv2D)            (None, 15, 15, 128)       147584    \n",
            "_________________________________________________________________\n",
            "max_pooling2d_3 (MaxPooling2 (None, 7, 7, 128)         0         \n",
            "_________________________________________________________________\n",
            "flatten (Flatten)            (None, 6272)              0         \n",
            "_________________________________________________________________\n",
            "dense (Dense)                (None, 512)               3211776   \n",
            "_________________________________________________________________\n",
            "dense_1 (Dense)              (None, 1)                 513       \n",
            "=================================================================\n",
            "Total params: 3,453,121\n",
            "Trainable params: 3,453,121\n",
            "Non-trainable params: 0\n",
            "_________________________________________________________________\n"
          ]
        }
      ]
    },
    {
      "cell_type": "markdown",
      "metadata": {
        "id": "1ug0o6GwPxwQ"
      },
      "source": [
        "## Compiling the model"
      ]
    },
    {
      "cell_type": "code",
      "metadata": {
        "id": "w5B0RDAZP2oR"
      },
      "source": [
        "from tensorflow.keras import optimizers"
      ],
      "execution_count": 12,
      "outputs": []
    },
    {
      "cell_type": "code",
      "metadata": {
        "id": "C1w6h9_dP7SE"
      },
      "source": [
        "model.compile(loss= 'binary_crossentropy',\n",
        "              optimizer=optimizers.RMSprop(learning_rate=1e-4),\n",
        "              metrics=['acc'])"
      ],
      "execution_count": 13,
      "outputs": []
    },
    {
      "cell_type": "markdown",
      "metadata": {
        "id": "73jNVGdAQHLe"
      },
      "source": [
        "## Data preprocessing"
      ]
    },
    {
      "cell_type": "code",
      "metadata": {
        "id": "wwSNS7AcQN3b"
      },
      "source": [
        "from tensorflow.keras.preprocessing.image import ImageDataGenerator"
      ],
      "execution_count": 14,
      "outputs": []
    },
    {
      "cell_type": "code",
      "metadata": {
        "colab": {
          "base_uri": "https://localhost:8080/"
        },
        "id": "CywDFSeCQVCv",
        "outputId": "d44f18a7-33bd-491d-8feb-6b60d4f631c2"
      },
      "source": [
        "# Rescaling\n",
        "train_datagen = ImageDataGenerator(rescale=1./255)\n",
        "test_datagen = ImageDataGenerator(rescale=1./255)\n",
        "\n",
        "train_generator = train_datagen.flow_from_directory(\n",
        "    train_dir, # Target dir\n",
        "    target_size = (150, 150), # Resizes all images to 150x150\n",
        "    batch_size = 20,\n",
        "    class_mode = 'binary' # Because we are using binary_crossentropy\n",
        ")\n",
        "\n",
        "validation_generator = test_datagen.flow_from_directory(\n",
        "    validation_dir, # Target dir\n",
        "    target_size = (150, 150), # Resizes all images to 150x150\n",
        "    batch_size = 20,\n",
        "    class_mode = 'binary' # Because we are using binary_crossentropy\n",
        ")"
      ],
      "execution_count": 15,
      "outputs": [
        {
          "output_type": "stream",
          "name": "stdout",
          "text": [
            "Found 2000 images belonging to 2 classes.\n",
            "Found 1000 images belonging to 2 classes.\n"
          ]
        }
      ]
    },
    {
      "cell_type": "markdown",
      "metadata": {
        "id": "SQ0BtDg_RFfL"
      },
      "source": [
        "## Fitting the model"
      ]
    },
    {
      "cell_type": "code",
      "metadata": {
        "id": "8poJ_CvWRLSN",
        "colab": {
          "base_uri": "https://localhost:8080/"
        },
        "outputId": "1522064f-4513-473e-c696-839eb0415835"
      },
      "source": [
        "history = model.fit_generator(\n",
        "    train_generator,\n",
        "    steps_per_epoch=100,\n",
        "    epochs=30,\n",
        "    validation_data=validation_generator,\n",
        "    validation_steps=50)"
      ],
      "execution_count": 16,
      "outputs": [
        {
          "output_type": "stream",
          "name": "stderr",
          "text": [
            "/usr/local/lib/python3.7/dist-packages/keras/engine/training.py:1972: UserWarning: `Model.fit_generator` is deprecated and will be removed in a future version. Please use `Model.fit`, which supports generators.\n",
            "  warnings.warn('`Model.fit_generator` is deprecated and '\n"
          ]
        },
        {
          "output_type": "stream",
          "name": "stdout",
          "text": [
            "Epoch 1/30\n",
            "100/100 [==============================] - 563s 5s/step - loss: 0.6924 - acc: 0.5275 - val_loss: 0.6722 - val_acc: 0.5760\n",
            "Epoch 2/30\n",
            "100/100 [==============================] - 16s 160ms/step - loss: 0.6633 - acc: 0.6075 - val_loss: 0.6686 - val_acc: 0.5730\n",
            "Epoch 3/30\n",
            "100/100 [==============================] - 16s 162ms/step - loss: 0.6355 - acc: 0.6485 - val_loss: 0.6369 - val_acc: 0.6300\n",
            "Epoch 4/30\n",
            "100/100 [==============================] - 16s 161ms/step - loss: 0.5873 - acc: 0.6845 - val_loss: 0.6160 - val_acc: 0.6420\n",
            "Epoch 5/30\n",
            "100/100 [==============================] - 16s 161ms/step - loss: 0.5415 - acc: 0.7365 - val_loss: 0.6027 - val_acc: 0.6700\n",
            "Epoch 6/30\n",
            "100/100 [==============================] - 16s 161ms/step - loss: 0.5114 - acc: 0.7475 - val_loss: 0.5738 - val_acc: 0.7000\n",
            "Epoch 7/30\n",
            "100/100 [==============================] - 16s 158ms/step - loss: 0.4744 - acc: 0.7775 - val_loss: 0.5965 - val_acc: 0.6840\n",
            "Epoch 8/30\n",
            "100/100 [==============================] - 16s 158ms/step - loss: 0.4584 - acc: 0.7780 - val_loss: 0.5661 - val_acc: 0.6970\n",
            "Epoch 9/30\n",
            "100/100 [==============================] - 16s 158ms/step - loss: 0.4200 - acc: 0.8105 - val_loss: 0.5593 - val_acc: 0.7120\n",
            "Epoch 10/30\n",
            "100/100 [==============================] - 16s 160ms/step - loss: 0.3977 - acc: 0.8225 - val_loss: 0.5963 - val_acc: 0.7080\n",
            "Epoch 11/30\n",
            "100/100 [==============================] - 16s 158ms/step - loss: 0.3640 - acc: 0.8485 - val_loss: 0.5819 - val_acc: 0.7090\n",
            "Epoch 12/30\n",
            "100/100 [==============================] - 16s 158ms/step - loss: 0.3497 - acc: 0.8395 - val_loss: 0.5759 - val_acc: 0.7120\n",
            "Epoch 13/30\n",
            "100/100 [==============================] - 16s 160ms/step - loss: 0.3245 - acc: 0.8550 - val_loss: 0.6032 - val_acc: 0.7130\n",
            "Epoch 14/30\n",
            "100/100 [==============================] - 16s 159ms/step - loss: 0.2969 - acc: 0.8735 - val_loss: 0.5978 - val_acc: 0.7070\n",
            "Epoch 15/30\n",
            "100/100 [==============================] - 16s 160ms/step - loss: 0.2645 - acc: 0.8960 - val_loss: 0.6312 - val_acc: 0.7130\n",
            "Epoch 16/30\n",
            "100/100 [==============================] - 16s 162ms/step - loss: 0.2494 - acc: 0.8965 - val_loss: 0.6460 - val_acc: 0.7140\n",
            "Epoch 17/30\n",
            "100/100 [==============================] - 16s 160ms/step - loss: 0.2286 - acc: 0.9155 - val_loss: 0.6407 - val_acc: 0.7220\n",
            "Epoch 18/30\n",
            "100/100 [==============================] - 16s 161ms/step - loss: 0.2050 - acc: 0.9265 - val_loss: 0.6834 - val_acc: 0.7270\n",
            "Epoch 19/30\n",
            "100/100 [==============================] - 16s 161ms/step - loss: 0.1796 - acc: 0.9380 - val_loss: 0.6965 - val_acc: 0.7170\n",
            "Epoch 20/30\n",
            "100/100 [==============================] - 16s 161ms/step - loss: 0.1553 - acc: 0.9530 - val_loss: 0.7451 - val_acc: 0.7070\n",
            "Epoch 21/30\n",
            "100/100 [==============================] - 16s 161ms/step - loss: 0.1376 - acc: 0.9565 - val_loss: 0.7963 - val_acc: 0.7110\n",
            "Epoch 22/30\n",
            "100/100 [==============================] - 16s 163ms/step - loss: 0.1261 - acc: 0.9605 - val_loss: 0.8000 - val_acc: 0.7140\n",
            "Epoch 23/30\n",
            "100/100 [==============================] - 16s 161ms/step - loss: 0.1063 - acc: 0.9670 - val_loss: 0.8635 - val_acc: 0.7130\n",
            "Epoch 24/30\n",
            "100/100 [==============================] - 16s 160ms/step - loss: 0.0904 - acc: 0.9735 - val_loss: 0.8656 - val_acc: 0.7080\n",
            "Epoch 25/30\n",
            "100/100 [==============================] - 16s 159ms/step - loss: 0.0750 - acc: 0.9770 - val_loss: 1.0356 - val_acc: 0.7160\n",
            "Epoch 26/30\n",
            "100/100 [==============================] - 16s 160ms/step - loss: 0.0660 - acc: 0.9815 - val_loss: 1.0425 - val_acc: 0.7210\n",
            "Epoch 27/30\n",
            "100/100 [==============================] - 16s 158ms/step - loss: 0.0577 - acc: 0.9805 - val_loss: 1.1789 - val_acc: 0.7120\n",
            "Epoch 28/30\n",
            "100/100 [==============================] - 16s 160ms/step - loss: 0.0508 - acc: 0.9850 - val_loss: 1.0595 - val_acc: 0.7150\n",
            "Epoch 29/30\n",
            "100/100 [==============================] - 16s 159ms/step - loss: 0.0389 - acc: 0.9925 - val_loss: 1.1626 - val_acc: 0.7050\n",
            "Epoch 30/30\n",
            "100/100 [==============================] - 16s 159ms/step - loss: 0.0344 - acc: 0.9915 - val_loss: 1.2843 - val_acc: 0.7010\n"
          ]
        }
      ]
    },
    {
      "cell_type": "code",
      "metadata": {
        "id": "anXmxoZcRREy"
      },
      "source": [
        "model.save('cats_and_dogs_small_1.h5')"
      ],
      "execution_count": 17,
      "outputs": []
    },
    {
      "cell_type": "code",
      "metadata": {
        "colab": {
          "base_uri": "https://localhost:8080/",
          "height": 545
        },
        "id": "45xs5kbzmFXQ",
        "outputId": "59ad6454-266b-4005-b894-3c49d96f6015"
      },
      "source": [
        "import matplotlib.pyplot as plt\n",
        "\n",
        "acc = history.history['acc']\n",
        "val_acc = history.history['val_acc']\n",
        "loss = history.history['loss']\n",
        "val_loss = history.history['val_loss']\n",
        "\n",
        "epochs = range(1, len(acc) + 1)\n",
        "\n",
        "plt.plot(epochs, acc, 'bo', label='Training acc')\n",
        "plt.plot(epochs, val_acc, 'b', label='Validation acc')\n",
        "plt.title('Training and validation accuracy')\n",
        "plt.legend()\n",
        "\n",
        "plt.figure()\n",
        "\n",
        "plt.plot(epochs, loss, 'bo', label='Training loss')\n",
        "plt.plot(epochs, val_loss, 'b', label='Validation loss')\n",
        "plt.title('Training and validation loss')\n",
        "plt.legend()\n",
        "\n",
        "plt.show()"
      ],
      "execution_count": 18,
      "outputs": [
        {
          "output_type": "display_data",
          "data": {
            "image/png": "[encoded data removed]",
            "text/plain": [
              "<Figure size 432x288 with 1 Axes>"
            ]
          },
          "metadata": {
            "needs_background": "light"
          }
        },
        {
          "output_type": "display_data",
          "data": {
            "image/png": "[encoded data removed]",
            "text/plain": [
              "<Figure size 432x288 with 1 Axes>"
            ]
          },
          "metadata": {
            "needs_background": "light"
          }
        }
      ]
    },
    {
      "cell_type": "code",
      "metadata": {
        "id": "i9pWyVL0mPFL"
      },
      "source": [
        ""
      ],
      "execution_count": null,
      "outputs": []
    }
  ]
}