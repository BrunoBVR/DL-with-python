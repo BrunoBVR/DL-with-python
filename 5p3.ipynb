{
  "nbformat": 4,
  "nbformat_minor": 0,
  "metadata": {
    "colab": {
      "name": "5p3.ipynb",
      "provenance": [],
      "collapsed_sections": [],
      "mount_file_id": "1eH7QycO3NEENiBNjC9vX3V3_37gNGBul",
      "authorship_tag": "ABX9TyOM3OjaQdouSpyzPU7creUy",
      "include_colab_link": true
    },
    "kernelspec": {
      "name": "python3",
      "display_name": "Python 3"
    },
    "language_info": {
      "name": "python"
    },
    "accelerator": "GPU"
  },
  "cells": [
    {
      "cell_type": "markdown",
      "metadata": {
        "id": "view-in-github",
        "colab_type": "text"
      },
      "source": [
        "<a href=\"https://colab.research.google.com/github/BrunoBVR/DL-with-python/blob/main/5p3.ipynb\" target=\"_parent\"><img src=\"https://colab.research.google.com/assets/colab-badge.svg\" alt=\"Open In Colab\"/></a>"
      ]
    },
    {
      "cell_type": "markdown",
      "metadata": {
        "id": "m_KeyG-PNNdY"
      },
      "source": [
        "# Training a convnet from scratch on a small dataset\n",
        "\n",
        "Classifying Dogs vs. Cats images.\n",
        "\n",
        "---\n",
        "\n",
        "# Using a pretrained convnet\n",
        "\n",
        "## Feature extraction\n",
        "\n",
        "> Feature extraction consists of using the representations learned by a previous network to extract interesting features from new samples. These features are then run through a new classifier, which is trained from scratch.\n",
        "\n",
        "## Using the **VGG16** model"
      ]
    },
    {
      "cell_type": "code",
      "metadata": {
        "colab": {
          "base_uri": "https://localhost:8080/"
        },
        "id": "DytVy1hJJIam",
        "outputId": "cc7c0482-ef89-4a61-e6e8-a296e54bc64c"
      },
      "source": [
        "from google.colab import drive\n",
        "drive.mount('/content/drive')"
      ],
      "execution_count": 1,
      "outputs": [
        {
          "output_type": "stream",
          "name": "stdout",
          "text": [
            "Drive already mounted at /content/drive; to attempt to forcibly remount, call drive.mount(\"/content/drive\", force_remount=True).\n"
          ]
        }
      ]
    },
    {
      "cell_type": "code",
      "metadata": {
        "colab": {
          "base_uri": "https://localhost:8080/"
        },
        "id": "ZMJSuqTsNb1j",
        "outputId": "04035525-0f97-4777-eb20-17841baaa564"
      },
      "source": [
        "from tensorflow.keras.applications import VGG16\n",
        "\n",
        "conv_base = VGG16(weights = 'imagenet',\n",
        "                  include_top = False,  # Using the base\n",
        "                  input_shape = (150, 150, 3))"
      ],
      "execution_count": 2,
      "outputs": [
        {
          "output_type": "stream",
          "name": "stdout",
          "text": [
            "Downloading data from https://storage.googleapis.com/tensorflow/keras-applications/vgg16/vgg16_weights_tf_dim_ordering_tf_kernels_notop.h5\n",
            "58892288/58889256 [==============================] - 1s 0us/step\n",
            "58900480/58889256 [==============================] - 1s 0us/step\n"
          ]
        }
      ]
    },
    {
      "cell_type": "code",
      "metadata": {
        "colab": {
          "base_uri": "https://localhost:8080/"
        },
        "id": "EetMk16hOEVY",
        "outputId": "5f41bdee-55bc-4526-81ff-3d7e9b584a19"
      },
      "source": [
        "import tensorflow as tf\n",
        "print(\"Num GPUs Available: \", len(tf.config.experimental.list_physical_devices('GPU')))"
      ],
      "execution_count": 3,
      "outputs": [
        {
          "output_type": "stream",
          "name": "stdout",
          "text": [
            "Num GPUs Available:  1\n"
          ]
        }
      ]
    },
    {
      "cell_type": "markdown",
      "metadata": {
        "id": "pxLms-sjOYcI"
      },
      "source": [
        "* *weights* specifies the weight checkpoint from which to initialize the model.\n",
        "* *include_top* refers to including (or not) the densely connected classifier on top of the network. By default, this densely connected classifier corresponds to the 1,000 classes from ImageNet. Because you intend to use your own densely connected classifier (with only two classes: cat and dog ), you don’t need to include it.\n",
        "*  *input_shape* is the shape of the image tensors that you’ll feed to the network. This argument is purely optional: if you don’t pass it, the network will be able to\n",
        "process inputs of any size."
      ]
    },
    {
      "cell_type": "code",
      "metadata": {
        "colab": {
          "base_uri": "https://localhost:8080/"
        },
        "id": "xEuIedQIOy9p",
        "outputId": "9fb3963f-e0bd-41c9-bf02-467453f3bba5"
      },
      "source": [
        "conv_base.summary()"
      ],
      "execution_count": 4,
      "outputs": [
        {
          "output_type": "stream",
          "name": "stdout",
          "text": [
            "Model: \"vgg16\"\n",
            "_________________________________________________________________\n",
            "Layer (type)                 Output Shape              Param #   \n",
            "=================================================================\n",
            "input_1 (InputLayer)         [(None, 150, 150, 3)]     0         \n",
            "_________________________________________________________________\n",
            "block1_conv1 (Conv2D)        (None, 150, 150, 64)      1792      \n",
            "_________________________________________________________________\n",
            "block1_conv2 (Conv2D)        (None, 150, 150, 64)      36928     \n",
            "_________________________________________________________________\n",
            "block1_pool (MaxPooling2D)   (None, 75, 75, 64)        0         \n",
            "_________________________________________________________________\n",
            "block2_conv1 (Conv2D)        (None, 75, 75, 128)       73856     \n",
            "_________________________________________________________________\n",
            "block2_conv2 (Conv2D)        (None, 75, 75, 128)       147584    \n",
            "_________________________________________________________________\n",
            "block2_pool (MaxPooling2D)   (None, 37, 37, 128)       0         \n",
            "_________________________________________________________________\n",
            "block3_conv1 (Conv2D)        (None, 37, 37, 256)       295168    \n",
            "_________________________________________________________________\n",
            "block3_conv2 (Conv2D)        (None, 37, 37, 256)       590080    \n",
            "_________________________________________________________________\n",
            "block3_conv3 (Conv2D)        (None, 37, 37, 256)       590080    \n",
            "_________________________________________________________________\n",
            "block3_pool (MaxPooling2D)   (None, 18, 18, 256)       0         \n",
            "_________________________________________________________________\n",
            "block4_conv1 (Conv2D)        (None, 18, 18, 512)       1180160   \n",
            "_________________________________________________________________\n",
            "block4_conv2 (Conv2D)        (None, 18, 18, 512)       2359808   \n",
            "_________________________________________________________________\n",
            "block4_conv3 (Conv2D)        (None, 18, 18, 512)       2359808   \n",
            "_________________________________________________________________\n",
            "block4_pool (MaxPooling2D)   (None, 9, 9, 512)         0         \n",
            "_________________________________________________________________\n",
            "block5_conv1 (Conv2D)        (None, 9, 9, 512)         2359808   \n",
            "_________________________________________________________________\n",
            "block5_conv2 (Conv2D)        (None, 9, 9, 512)         2359808   \n",
            "_________________________________________________________________\n",
            "block5_conv3 (Conv2D)        (None, 9, 9, 512)         2359808   \n",
            "_________________________________________________________________\n",
            "block5_pool (MaxPooling2D)   (None, 4, 4, 512)         0         \n",
            "=================================================================\n",
            "Total params: 14,714,688\n",
            "Trainable params: 14,714,688\n",
            "Non-trainable params: 0\n",
            "_________________________________________________________________\n"
          ]
        }
      ]
    },
    {
      "cell_type": "markdown",
      "metadata": {
        "id": "gO4VhR7kO1gh"
      },
      "source": [
        "## FAST FEATURE EXTRACTION WITHOUT DATA AUGMENTATION\n",
        "\n",
        "Recording the output of `conv_base` on your data and using these outputs as inputs to a new model."
      ]
    },
    {
      "cell_type": "code",
      "metadata": {
        "colab": {
          "base_uri": "https://localhost:8080/"
        },
        "id": "xlRPAddAPIZY",
        "outputId": "c1b5f44f-0df4-456f-ceea-fc43b9e58535"
      },
      "source": [
        "import os\n",
        "import numpy as np\n",
        "from tensorflow.keras.preprocessing.image import ImageDataGenerator\n",
        "\n",
        "base_dir = '/content/drive/MyDrive/DL-With-Python/Chapter5/cats_and_dogs_small'\n",
        "train_dir = os.path.join(base_dir, 'train')\n",
        "validation_dir = os.path.join(base_dir, 'validation')\n",
        "test_dir = os.path.join(base_dir, 'test')\n",
        "\n",
        "datagen = ImageDataGenerator(rescale=1./255)\n",
        "batch_size = 20\n",
        "\n",
        "def extract_features(directory, sample_count):\n",
        "  features = np.zeros(shape=(sample_count, 4, 4, 512))\n",
        "  labels = np.zeros(shape=(sample_count))\n",
        "  generator = datagen.flow_from_directory(\n",
        "    directory,\n",
        "    target_size=(150, 150),\n",
        "    batch_size=batch_size,\n",
        "    class_mode='binary')\n",
        "  i = 0\n",
        "  for inputs_batch, labels_batch in generator:\n",
        "    features_batch = conv_base.predict(inputs_batch)\n",
        "    features[i * batch_size : (i + 1) * batch_size] = features_batch\n",
        "    labels[i * batch_size : (i + 1) * batch_size] = labels_batch\n",
        "    i += 1\n",
        "    if i * batch_size >= sample_count:\n",
        "      break\n",
        "  return features, labels\n",
        "  \n",
        "train_features, train_labels = extract_features(train_dir, 2000)\n",
        "validation_features, validation_labels = extract_features(validation_dir, 1000)\n",
        "test_features, test_labels = extract_features(test_dir, 1000)"
      ],
      "execution_count": 5,
      "outputs": [
        {
          "output_type": "stream",
          "name": "stdout",
          "text": [
            "Found 2000 images belonging to 2 classes.\n",
            "Found 1000 images belonging to 2 classes.\n",
            "Found 1000 images belonging to 2 classes.\n"
          ]
        }
      ]
    },
    {
      "cell_type": "markdown",
      "metadata": {
        "id": "6Na_AgHdQSof"
      },
      "source": [
        "The extracted features are currently of shape (samples, 4, 4, 512) . You’ll feed them to a densely connected classifier, so first you must flatten them to (samples, 8192) :"
      ]
    },
    {
      "cell_type": "code",
      "metadata": {
        "id": "_Jh2XsjuVq9c"
      },
      "source": [
        "train_features = np.reshape(train_features, (2000, 4 * 4 * 512))\n",
        "validation_features = np.reshape(validation_features, (1000, 4 * 4 * 512))\n",
        "test_features = np.reshape(test_features, (1000, 4 * 4 * 512))"
      ],
      "execution_count": 6,
      "outputs": []
    },
    {
      "cell_type": "markdown",
      "metadata": {
        "id": "t7xjNENcVuQ-"
      },
      "source": [
        "### Defining and training the densely connected classifier"
      ]
    },
    {
      "cell_type": "code",
      "metadata": {
        "colab": {
          "base_uri": "https://localhost:8080/"
        },
        "id": "QNMZKF1rV0m3",
        "outputId": "b0b831d7-8e6b-4f9c-8025-1be2c89371ab"
      },
      "source": [
        "from tensorflow.keras import models\n",
        "from tensorflow.keras import layers\n",
        "from tensorflow.keras import optimizers\n",
        "\n",
        "model = models.Sequential()\n",
        "model.add(layers.Dense(256, activation='relu', input_dim=4 * 4 * 512))\n",
        "model.add(layers.Dropout(0.5))\n",
        "model.add(layers.Dense(1, activation='sigmoid'))\n",
        "\n",
        "model.compile(optimizer=optimizers.RMSprop(learning_rate=2e-5),\n",
        "              loss='binary_crossentropy',\n",
        "              metrics=['acc'])\n",
        "\n",
        "history = model.fit(train_features, train_labels,\n",
        "                    epochs=30,\n",
        "                    batch_size=20,\n",
        "                    validation_data=(validation_features, validation_labels))"
      ],
      "execution_count": 7,
      "outputs": [
        {
          "output_type": "stream",
          "name": "stdout",
          "text": [
            "Epoch 1/30\n",
            "100/100 [==============================] - 1s 7ms/step - loss: 0.5942 - acc: 0.6815 - val_loss: 0.4387 - val_acc: 0.8440\n",
            "Epoch 2/30\n",
            "100/100 [==============================] - 1s 6ms/step - loss: 0.4225 - acc: 0.8150 - val_loss: 0.3630 - val_acc: 0.8650\n",
            "Epoch 3/30\n",
            "100/100 [==============================] - 1s 6ms/step - loss: 0.3628 - acc: 0.8545 - val_loss: 0.3208 - val_acc: 0.8790\n",
            "Epoch 4/30\n",
            "100/100 [==============================] - 1s 6ms/step - loss: 0.3150 - acc: 0.8670 - val_loss: 0.3067 - val_acc: 0.8730\n",
            "Epoch 5/30\n",
            "100/100 [==============================] - 1s 5ms/step - loss: 0.2856 - acc: 0.8890 - val_loss: 0.2840 - val_acc: 0.8810\n",
            "Epoch 6/30\n",
            "100/100 [==============================] - 1s 6ms/step - loss: 0.2696 - acc: 0.8970 - val_loss: 0.2771 - val_acc: 0.8890\n",
            "Epoch 7/30\n",
            "100/100 [==============================] - 1s 6ms/step - loss: 0.2484 - acc: 0.9030 - val_loss: 0.2645 - val_acc: 0.8950\n",
            "Epoch 8/30\n",
            "100/100 [==============================] - 1s 6ms/step - loss: 0.2357 - acc: 0.9120 - val_loss: 0.2581 - val_acc: 0.9000\n",
            "Epoch 9/30\n",
            "100/100 [==============================] - 1s 6ms/step - loss: 0.2202 - acc: 0.9150 - val_loss: 0.2562 - val_acc: 0.8890\n",
            "Epoch 10/30\n",
            "100/100 [==============================] - 1s 6ms/step - loss: 0.2006 - acc: 0.9220 - val_loss: 0.2485 - val_acc: 0.8980\n",
            "Epoch 11/30\n",
            "100/100 [==============================] - 1s 6ms/step - loss: 0.1920 - acc: 0.9265 - val_loss: 0.2541 - val_acc: 0.8940\n",
            "Epoch 12/30\n",
            "100/100 [==============================] - 1s 6ms/step - loss: 0.1885 - acc: 0.9310 - val_loss: 0.2438 - val_acc: 0.9040\n",
            "Epoch 13/30\n",
            "100/100 [==============================] - 1s 6ms/step - loss: 0.1785 - acc: 0.9340 - val_loss: 0.2445 - val_acc: 0.8960\n",
            "Epoch 14/30\n",
            "100/100 [==============================] - 1s 6ms/step - loss: 0.1726 - acc: 0.9300 - val_loss: 0.2402 - val_acc: 0.8990\n",
            "Epoch 15/30\n",
            "100/100 [==============================] - 1s 6ms/step - loss: 0.1613 - acc: 0.9445 - val_loss: 0.2365 - val_acc: 0.8960\n",
            "Epoch 16/30\n",
            "100/100 [==============================] - 1s 6ms/step - loss: 0.1518 - acc: 0.9460 - val_loss: 0.2362 - val_acc: 0.8980\n",
            "Epoch 17/30\n",
            "100/100 [==============================] - 1s 6ms/step - loss: 0.1512 - acc: 0.9505 - val_loss: 0.2356 - val_acc: 0.8990\n",
            "Epoch 18/30\n",
            "100/100 [==============================] - 1s 6ms/step - loss: 0.1502 - acc: 0.9460 - val_loss: 0.2345 - val_acc: 0.8990\n",
            "Epoch 19/30\n",
            "100/100 [==============================] - 1s 6ms/step - loss: 0.1322 - acc: 0.9555 - val_loss: 0.2374 - val_acc: 0.8960\n",
            "Epoch 20/30\n",
            "100/100 [==============================] - 1s 6ms/step - loss: 0.1316 - acc: 0.9530 - val_loss: 0.2380 - val_acc: 0.8980\n",
            "Epoch 21/30\n",
            "100/100 [==============================] - 1s 6ms/step - loss: 0.1258 - acc: 0.9595 - val_loss: 0.2415 - val_acc: 0.9010\n",
            "Epoch 22/30\n",
            "100/100 [==============================] - 1s 6ms/step - loss: 0.1208 - acc: 0.9610 - val_loss: 0.2353 - val_acc: 0.9020\n",
            "Epoch 23/30\n",
            "100/100 [==============================] - 1s 6ms/step - loss: 0.1119 - acc: 0.9625 - val_loss: 0.2340 - val_acc: 0.9020\n",
            "Epoch 24/30\n",
            "100/100 [==============================] - 1s 6ms/step - loss: 0.1139 - acc: 0.9640 - val_loss: 0.2355 - val_acc: 0.8970\n",
            "Epoch 25/30\n",
            "100/100 [==============================] - 1s 6ms/step - loss: 0.1054 - acc: 0.9635 - val_loss: 0.2370 - val_acc: 0.8960\n",
            "Epoch 26/30\n",
            "100/100 [==============================] - 1s 6ms/step - loss: 0.1022 - acc: 0.9635 - val_loss: 0.2360 - val_acc: 0.9030\n",
            "Epoch 27/30\n",
            "100/100 [==============================] - 1s 6ms/step - loss: 0.1029 - acc: 0.9680 - val_loss: 0.2382 - val_acc: 0.8970\n",
            "Epoch 28/30\n",
            "100/100 [==============================] - 1s 6ms/step - loss: 0.0910 - acc: 0.9730 - val_loss: 0.2450 - val_acc: 0.8970\n",
            "Epoch 29/30\n",
            "100/100 [==============================] - 1s 6ms/step - loss: 0.0928 - acc: 0.9690 - val_loss: 0.2395 - val_acc: 0.8990\n",
            "Epoch 30/30\n",
            "100/100 [==============================] - 1s 6ms/step - loss: 0.0853 - acc: 0.9725 - val_loss: 0.2490 - val_acc: 0.8990\n"
          ]
        }
      ]
    },
    {
      "cell_type": "code",
      "metadata": {
        "colab": {
          "base_uri": "https://localhost:8080/",
          "height": 545
        },
        "id": "EHL8on2YV_G0",
        "outputId": "7f998b00-50bb-4fdd-c4b1-9de1c11da290"
      },
      "source": [
        "import matplotlib.pyplot as plt\n",
        "\n",
        "acc = history.history['acc']\n",
        "val_acc = history.history['val_acc']\n",
        "loss = history.history['loss']\n",
        "val_loss = history.history['val_loss']\n",
        "\n",
        "epochs = range(1, len(acc) + 1)\n",
        "\n",
        "plt.plot(epochs, acc, 'bo', label='Training acc')\n",
        "plt.plot(epochs, val_acc, 'b', label='Validation acc')\n",
        "plt.title('Training and validation accuracy')\n",
        "plt.legend()\n",
        "\n",
        "plt.figure()\n",
        "\n",
        "plt.plot(epochs, loss, 'bo', label='Training loss')\n",
        "plt.plot(epochs, val_loss, 'b', label='Validation loss')\n",
        "plt.title('Training and validation loss')\n",
        "plt.legend()\n",
        "\n",
        "plt.show()"
      ],
      "execution_count": 8,
      "outputs": [
        {
          "output_type": "display_data",
          "data": {
            "image/png": "[encoded data removed]",
            "text/plain": [
              "<Figure size 432x288 with 1 Axes>"
            ]
          },
          "metadata": {
            "needs_background": "light"
          }
        },
        {
          "output_type": "display_data",
          "data": {
            "image/png": "[encoded data removed]",
            "text/plain": [
              "<Figure size 432x288 with 1 Axes>"
            ]
          },
          "metadata": {
            "needs_background": "light"
          }
        }
      ]
    },
    {
      "cell_type": "markdown",
      "metadata": {
        "id": "_9M4P6qqZJPt"
      },
      "source": [
        "## Data Augmentation and Fine tuning\n",
        "\n",
        "The steps for fine-tuning a network are as follow:\n",
        "\n",
        "1. Add your custom network on top of an already-trained base network.\n",
        "2. Freeze the base network.\n",
        "3. Train the part you added.\n",
        "4. Unfreeze some layers in the base network.\n",
        "5. Jointly train both these layers and the part you added.\n",
        "\n",
        "---\n",
        "\n",
        "First, let's build the whole model for end-to-end classification:"
      ]
    },
    {
      "cell_type": "code",
      "metadata": {
        "id": "Ju2TDKXRW8TC"
      },
      "source": [
        "model = models.Sequential()\n",
        "model.add(conv_base)\n",
        "model.add(layers.Flatten())\n",
        "model.add(layers.Dense(256, activation='relu'))\n",
        "model.add(layers.Dense(1, activation='sigmoid'))"
      ],
      "execution_count": 16,
      "outputs": []
    },
    {
      "cell_type": "markdown",
      "metadata": {
        "id": "I5M2-L1nXLEl"
      },
      "source": [
        "Before we compile and train the model, it's very important to freeze the convolutional base. Freezing a layer or set of layers means preventing their weights from being updated during training. If you don't do this, then the representations that were previously learned by the convolutional base will be modified during training. Because the Dense layers on top are randomly initialized, very large weight updates would be propagated through the network, effectively destroying the representations previously learned."
      ]
    },
    {
      "cell_type": "code",
      "metadata": {
        "colab": {
          "base_uri": "https://localhost:8080/"
        },
        "id": "cDMfNe52XcUW",
        "outputId": "19b548b6-5fe3-4368-c0b7-81f971f44623"
      },
      "source": [
        "print('This is the number of trainable weights '\n",
        "'before freezing the conv base:', len(model.trainable_weights))"
      ],
      "execution_count": 17,
      "outputs": [
        {
          "output_type": "stream",
          "name": "stdout",
          "text": [
            "This is the number of trainable weights before freezing the conv base: 10\n"
          ]
        }
      ]
    },
    {
      "cell_type": "code",
      "metadata": {
        "id": "LUe4_ThlXhO7"
      },
      "source": [
        "conv_base.trainable = False"
      ],
      "execution_count": 18,
      "outputs": []
    },
    {
      "cell_type": "code",
      "metadata": {
        "colab": {
          "base_uri": "https://localhost:8080/"
        },
        "id": "-Pm20kuYXnDo",
        "outputId": "72288a88-056c-488c-fe8d-2e20ee16db36"
      },
      "source": [
        "print('This is the number of trainable weights '\n",
        "'after freezing the conv base:', len(model.trainable_weights))"
      ],
      "execution_count": 19,
      "outputs": [
        {
          "output_type": "stream",
          "name": "stdout",
          "text": [
            "This is the number of trainable weights after freezing the conv base: 4\n"
          ]
        }
      ]
    },
    {
      "cell_type": "markdown",
      "metadata": {
        "id": "pVx1QtprTy1N"
      },
      "source": [
        "Creating generators for data augmentation:"
      ]
    },
    {
      "cell_type": "code",
      "metadata": {
        "colab": {
          "base_uri": "https://localhost:8080/"
        },
        "id": "6jlwmJI6T2Lv",
        "outputId": "b4a6a034-4125-497d-8765-a7f8ee6940c6"
      },
      "source": [
        "train_datagen = ImageDataGenerator(\n",
        "                      rescale=1./255,\n",
        "                      rotation_range=40,\n",
        "                      width_shift_range=0.2,\n",
        "                      height_shift_range=0.2,\n",
        "                      shear_range=0.2,\n",
        "                      zoom_range=0.2,\n",
        "                      horizontal_flip=True,\n",
        "                      fill_mode='nearest')\n",
        "# Note that the validation data shouldn’t be augmented!\n",
        "test_datagen = ImageDataGenerator(rescale=1./255)\n",
        "\n",
        "train_generator = train_datagen.flow_from_directory(\n",
        "                      train_dir,\n",
        "                      target_size=(150, 150),\n",
        "                      batch_size=20,\n",
        "                      class_mode='binary')\n",
        "validation_generator = test_datagen.flow_from_directory(\n",
        "                      validation_dir,\n",
        "                      target_size=(150, 150),\n",
        "                      batch_size=20,\n",
        "                      class_mode='binary')"
      ],
      "execution_count": 20,
      "outputs": [
        {
          "output_type": "stream",
          "name": "stdout",
          "text": [
            "Found 2000 images belonging to 2 classes.\n",
            "Found 1000 images belonging to 2 classes.\n"
          ]
        }
      ]
    },
    {
      "cell_type": "code",
      "metadata": {
        "colab": {
          "base_uri": "https://localhost:8080/"
        },
        "id": "OZeXZAtPXwZl",
        "outputId": "89dcbe2c-1ac7-467c-fe76-67813f7e4539"
      },
      "source": [
        "# Compiling and fitting\n",
        "model.compile(loss='binary_crossentropy',\n",
        "              optimizer=optimizers.RMSprop(learning_rate=2e-5),\n",
        "              metrics=['acc'])\n",
        "\n",
        "history = model.fit(\n",
        "              train_generator,\n",
        "              steps_per_epoch=2000//20,\n",
        "              epochs=30,\n",
        "              validation_data=validation_generator,\n",
        "              validation_steps=1000//20)"
      ],
      "execution_count": 21,
      "outputs": [
        {
          "output_type": "stream",
          "name": "stdout",
          "text": [
            "Epoch 1/30\n",
            "100/100 [==============================] - 31s 300ms/step - loss: 0.5893 - acc: 0.6960 - val_loss: 0.4475 - val_acc: 0.8170\n",
            "Epoch 2/30\n",
            "100/100 [==============================] - 30s 295ms/step - loss: 0.4766 - acc: 0.7810 - val_loss: 0.3724 - val_acc: 0.8500\n",
            "Epoch 3/30\n",
            "100/100 [==============================] - 29s 294ms/step - loss: 0.4334 - acc: 0.8020 - val_loss: 0.3297 - val_acc: 0.8700\n",
            "Epoch 4/30\n",
            "100/100 [==============================] - 30s 296ms/step - loss: 0.4070 - acc: 0.8210 - val_loss: 0.3094 - val_acc: 0.8760\n",
            "Epoch 5/30\n",
            "100/100 [==============================] - 29s 294ms/step - loss: 0.3865 - acc: 0.8275 - val_loss: 0.2951 - val_acc: 0.8780\n",
            "Epoch 6/30\n",
            "100/100 [==============================] - 30s 296ms/step - loss: 0.3691 - acc: 0.8310 - val_loss: 0.2833 - val_acc: 0.8900\n",
            "Epoch 7/30\n",
            "100/100 [==============================] - 29s 293ms/step - loss: 0.3572 - acc: 0.8380 - val_loss: 0.2829 - val_acc: 0.8810\n",
            "Epoch 8/30\n",
            "100/100 [==============================] - 29s 291ms/step - loss: 0.3588 - acc: 0.8320 - val_loss: 0.2686 - val_acc: 0.8910\n",
            "Epoch 9/30\n",
            "100/100 [==============================] - 29s 291ms/step - loss: 0.3408 - acc: 0.8605 - val_loss: 0.2760 - val_acc: 0.8810\n",
            "Epoch 10/30\n",
            "100/100 [==============================] - 29s 291ms/step - loss: 0.3512 - acc: 0.8425 - val_loss: 0.2621 - val_acc: 0.8890\n",
            "Epoch 11/30\n",
            "100/100 [==============================] - 29s 290ms/step - loss: 0.3269 - acc: 0.8615 - val_loss: 0.2673 - val_acc: 0.8910\n",
            "Epoch 12/30\n",
            "100/100 [==============================] - 29s 291ms/step - loss: 0.3274 - acc: 0.8525 - val_loss: 0.2546 - val_acc: 0.8990\n",
            "Epoch 13/30\n",
            "100/100 [==============================] - 29s 291ms/step - loss: 0.3255 - acc: 0.8575 - val_loss: 0.2564 - val_acc: 0.8910\n",
            "Epoch 14/30\n",
            "100/100 [==============================] - 29s 292ms/step - loss: 0.3290 - acc: 0.8555 - val_loss: 0.2459 - val_acc: 0.9010\n",
            "Epoch 15/30\n",
            "100/100 [==============================] - 29s 292ms/step - loss: 0.3129 - acc: 0.8685 - val_loss: 0.2462 - val_acc: 0.9060\n",
            "Epoch 16/30\n",
            "100/100 [==============================] - 29s 291ms/step - loss: 0.3057 - acc: 0.8730 - val_loss: 0.2489 - val_acc: 0.8940\n",
            "Epoch 17/30\n",
            "100/100 [==============================] - 29s 292ms/step - loss: 0.3168 - acc: 0.8615 - val_loss: 0.2513 - val_acc: 0.8950\n",
            "Epoch 18/30\n",
            "100/100 [==============================] - 29s 294ms/step - loss: 0.3047 - acc: 0.8670 - val_loss: 0.2474 - val_acc: 0.9010\n",
            "Epoch 19/30\n",
            "100/100 [==============================] - 34s 335ms/step - loss: 0.2947 - acc: 0.8715 - val_loss: 0.2437 - val_acc: 0.9070\n",
            "Epoch 20/30\n",
            "100/100 [==============================] - 29s 291ms/step - loss: 0.3044 - acc: 0.8675 - val_loss: 0.2409 - val_acc: 0.9010\n",
            "Epoch 21/30\n",
            "100/100 [==============================] - 29s 292ms/step - loss: 0.3018 - acc: 0.8660 - val_loss: 0.2572 - val_acc: 0.8930\n",
            "Epoch 22/30\n",
            "100/100 [==============================] - 29s 292ms/step - loss: 0.2962 - acc: 0.8720 - val_loss: 0.2482 - val_acc: 0.9000\n",
            "Epoch 23/30\n",
            "100/100 [==============================] - 29s 292ms/step - loss: 0.2993 - acc: 0.8670 - val_loss: 0.2471 - val_acc: 0.9000\n",
            "Epoch 24/30\n",
            "100/100 [==============================] - 29s 292ms/step - loss: 0.2889 - acc: 0.8725 - val_loss: 0.2349 - val_acc: 0.9020\n",
            "Epoch 25/30\n",
            "100/100 [==============================] - 29s 293ms/step - loss: 0.2933 - acc: 0.8700 - val_loss: 0.2582 - val_acc: 0.8880\n",
            "Epoch 26/30\n",
            "100/100 [==============================] - 29s 295ms/step - loss: 0.2904 - acc: 0.8750 - val_loss: 0.2340 - val_acc: 0.9070\n",
            "Epoch 27/30\n",
            "100/100 [==============================] - 29s 294ms/step - loss: 0.2834 - acc: 0.8780 - val_loss: 0.2368 - val_acc: 0.9050\n",
            "Epoch 28/30\n",
            "100/100 [==============================] - 29s 293ms/step - loss: 0.2886 - acc: 0.8730 - val_loss: 0.2416 - val_acc: 0.9080\n",
            "Epoch 29/30\n",
            "100/100 [==============================] - 30s 295ms/step - loss: 0.2684 - acc: 0.8755 - val_loss: 0.2339 - val_acc: 0.9100\n",
            "Epoch 30/30\n",
            "100/100 [==============================] - 29s 292ms/step - loss: 0.2840 - acc: 0.8815 - val_loss: 0.2347 - val_acc: 0.9090\n"
          ]
        }
      ]
    },
    {
      "cell_type": "code",
      "metadata": {
        "colab": {
          "base_uri": "https://localhost:8080/",
          "height": 545
        },
        "id": "bNL0tCbiaiO3",
        "outputId": "c9a85d3b-4546-4eed-9d01-d46ff6042d1e"
      },
      "source": [
        "acc = history.history['acc']\n",
        "val_acc = history.history['val_acc']\n",
        "loss = history.history['loss']\n",
        "val_loss = history.history['val_loss']\n",
        "\n",
        "epochs = range(1, len(acc) + 1)\n",
        "\n",
        "plt.plot(epochs, acc, 'bo', label='Training acc')\n",
        "plt.plot(epochs, val_acc, 'b', label='Validation acc')\n",
        "plt.title('Training and validation accuracy')\n",
        "plt.legend()\n",
        "\n",
        "plt.figure()\n",
        "\n",
        "plt.plot(epochs, loss, 'bo', label='Training loss')\n",
        "plt.plot(epochs, val_loss, 'b', label='Validation loss')\n",
        "plt.title('Training and validation loss')\n",
        "plt.legend()\n",
        "\n",
        "plt.show()"
      ],
      "execution_count": 22,
      "outputs": [
        {
          "output_type": "display_data",
          "data": {
            "image/png": "[encoded data removed]",
            "text/plain": [
              "<Figure size 432x288 with 1 Axes>"
            ]
          },
          "metadata": {
            "needs_background": "light"
          }
        },
        {
          "output_type": "display_data",
          "data": {
            "image/png": "[encoded data removed]",
            "text/plain": [
              "<Figure size 432x288 with 1 Axes>"
            ]
          },
          "metadata": {
            "needs_background": "light"
          }
        }
      ]
    },
    {
      "cell_type": "code",
      "metadata": {
        "colab": {
          "base_uri": "https://localhost:8080/"
        },
        "id": "JwCNJWnARsL7",
        "outputId": "8edaa347-04d6-48d9-bccd-cd0c91d2f3c4"
      },
      "source": [
        "conv_base.summary()"
      ],
      "execution_count": 23,
      "outputs": [
        {
          "output_type": "stream",
          "name": "stdout",
          "text": [
            "Model: \"vgg16\"\n",
            "_________________________________________________________________\n",
            "Layer (type)                 Output Shape              Param #   \n",
            "=================================================================\n",
            "input_1 (InputLayer)         [(None, 150, 150, 3)]     0         \n",
            "_________________________________________________________________\n",
            "block1_conv1 (Conv2D)        (None, 150, 150, 64)      1792      \n",
            "_________________________________________________________________\n",
            "block1_conv2 (Conv2D)        (None, 150, 150, 64)      36928     \n",
            "_________________________________________________________________\n",
            "block1_pool (MaxPooling2D)   (None, 75, 75, 64)        0         \n",
            "_________________________________________________________________\n",
            "block2_conv1 (Conv2D)        (None, 75, 75, 128)       73856     \n",
            "_________________________________________________________________\n",
            "block2_conv2 (Conv2D)        (None, 75, 75, 128)       147584    \n",
            "_________________________________________________________________\n",
            "block2_pool (MaxPooling2D)   (None, 37, 37, 128)       0         \n",
            "_________________________________________________________________\n",
            "block3_conv1 (Conv2D)        (None, 37, 37, 256)       295168    \n",
            "_________________________________________________________________\n",
            "block3_conv2 (Conv2D)        (None, 37, 37, 256)       590080    \n",
            "_________________________________________________________________\n",
            "block3_conv3 (Conv2D)        (None, 37, 37, 256)       590080    \n",
            "_________________________________________________________________\n",
            "block3_pool (MaxPooling2D)   (None, 18, 18, 256)       0         \n",
            "_________________________________________________________________\n",
            "block4_conv1 (Conv2D)        (None, 18, 18, 512)       1180160   \n",
            "_________________________________________________________________\n",
            "block4_conv2 (Conv2D)        (None, 18, 18, 512)       2359808   \n",
            "_________________________________________________________________\n",
            "block4_conv3 (Conv2D)        (None, 18, 18, 512)       2359808   \n",
            "_________________________________________________________________\n",
            "block4_pool (MaxPooling2D)   (None, 9, 9, 512)         0         \n",
            "_________________________________________________________________\n",
            "block5_conv1 (Conv2D)        (None, 9, 9, 512)         2359808   \n",
            "_________________________________________________________________\n",
            "block5_conv2 (Conv2D)        (None, 9, 9, 512)         2359808   \n",
            "_________________________________________________________________\n",
            "block5_conv3 (Conv2D)        (None, 9, 9, 512)         2359808   \n",
            "_________________________________________________________________\n",
            "block5_pool (MaxPooling2D)   (None, 4, 4, 512)         0         \n",
            "=================================================================\n",
            "Total params: 14,714,688\n",
            "Trainable params: 0\n",
            "Non-trainable params: 14,714,688\n",
            "_________________________________________________________________\n"
          ]
        }
      ]
    },
    {
      "cell_type": "markdown",
      "metadata": {
        "id": "69J89qSjR3NO"
      },
      "source": [
        "We'll fine-tune the last three convolutional layers, which means all layers up to *block4_pool* should be frozen, and the layers *block5_conv1* , *block5_conv2*, and *block5_conv3* should be trainable."
      ]
    },
    {
      "cell_type": "code",
      "metadata": {
        "id": "n8yyoJOaSHe4"
      },
      "source": [
        "conv_base.trainable = True\n",
        "\n",
        "set_trainable = False\n",
        "for layer in conv_base.layers:\n",
        "  if layer.name == 'block5_conv1':\n",
        "    set_trainable = True\n",
        "  if set_trainable:\n",
        "    layer.trainable = True\n",
        "  else:\n",
        "    layer.trainable = False"
      ],
      "execution_count": 24,
      "outputs": []
    },
    {
      "cell_type": "markdown",
      "metadata": {
        "id": "xxN1XDw9SqYU"
      },
      "source": [
        "Now we can begin fine-tuning the network. We'll do this with the RMSProp optimizer, using a very low learning rate. The reason for using a low learning rate is that you want to limit the magnitude of the modifications you make to the representations of the three layers we're fine-tuning. Updates that are too large may harm these representations."
      ]
    },
    {
      "cell_type": "code",
      "metadata": {
        "colab": {
          "base_uri": "https://localhost:8080/"
        },
        "id": "QpgOeeTXWj6p",
        "outputId": "8cd9efba-f123-4ae2-9469-403a9fcf7329"
      },
      "source": [
        "model.summary()"
      ],
      "execution_count": 25,
      "outputs": [
        {
          "output_type": "stream",
          "name": "stdout",
          "text": [
            "Model: \"sequential_1\"\n",
            "_________________________________________________________________\n",
            "Layer (type)                 Output Shape              Param #   \n",
            "=================================================================\n",
            "vgg16 (Functional)           (None, 4, 4, 512)         14714688  \n",
            "_________________________________________________________________\n",
            "flatten (Flatten)            (None, 8192)              0         \n",
            "_________________________________________________________________\n",
            "dense_2 (Dense)              (None, 256)               2097408   \n",
            "_________________________________________________________________\n",
            "dense_3 (Dense)              (None, 1)                 257       \n",
            "=================================================================\n",
            "Total params: 16,812,353\n",
            "Trainable params: 9,177,089\n",
            "Non-trainable params: 7,635,264\n",
            "_________________________________________________________________\n"
          ]
        }
      ]
    },
    {
      "cell_type": "code",
      "metadata": {
        "colab": {
          "base_uri": "https://localhost:8080/"
        },
        "id": "gYsMtnsgS7ew",
        "outputId": "a6046dbb-319d-4e12-9f88-3a70bacb2363"
      },
      "source": [
        "model.compile(loss='binary_crossentropy',\n",
        "              optimizer=optimizers.RMSprop(learning_rate=1e-5),\n",
        "              metrics=['acc'])\n",
        "\n",
        "history = model.fit(\n",
        "    train_generator,\n",
        "    steps_per_epoch = 2000//20,\n",
        "    epochs = 100,\n",
        "    validation_data = validation_generator,\n",
        "    validation_steps = 1000//20\n",
        ")"
      ],
      "execution_count": 26,
      "outputs": [
        {
          "output_type": "stream",
          "name": "stdout",
          "text": [
            "Epoch 1/100\n",
            "100/100 [==============================] - 33s 304ms/step - loss: 0.2911 - acc: 0.8785 - val_loss: 0.2219 - val_acc: 0.9050\n",
            "Epoch 2/100\n",
            "100/100 [==============================] - 30s 305ms/step - loss: 0.2555 - acc: 0.8890 - val_loss: 0.2140 - val_acc: 0.9110\n",
            "Epoch 3/100\n",
            "100/100 [==============================] - 30s 304ms/step - loss: 0.2374 - acc: 0.9010 - val_loss: 0.2490 - val_acc: 0.9040\n",
            "Epoch 4/100\n",
            "100/100 [==============================] - 31s 307ms/step - loss: 0.2144 - acc: 0.9115 - val_loss: 0.2176 - val_acc: 0.9170\n",
            "Epoch 5/100\n",
            "100/100 [==============================] - 30s 302ms/step - loss: 0.2044 - acc: 0.9175 - val_loss: 0.1859 - val_acc: 0.9240\n",
            "Epoch 6/100\n",
            "100/100 [==============================] - 30s 304ms/step - loss: 0.2062 - acc: 0.9175 - val_loss: 0.1968 - val_acc: 0.9140\n",
            "Epoch 7/100\n",
            "100/100 [==============================] - 30s 303ms/step - loss: 0.1806 - acc: 0.9250 - val_loss: 0.1884 - val_acc: 0.9260\n",
            "Epoch 8/100\n",
            "100/100 [==============================] - 31s 305ms/step - loss: 0.1605 - acc: 0.9350 - val_loss: 0.1960 - val_acc: 0.9200\n",
            "Epoch 9/100\n",
            "100/100 [==============================] - 30s 303ms/step - loss: 0.1618 - acc: 0.9350 - val_loss: 0.1938 - val_acc: 0.9230\n",
            "Epoch 10/100\n",
            "100/100 [==============================] - 30s 304ms/step - loss: 0.1675 - acc: 0.9270 - val_loss: 0.1840 - val_acc: 0.9240\n",
            "Epoch 11/100\n",
            "100/100 [==============================] - 31s 305ms/step - loss: 0.1432 - acc: 0.9445 - val_loss: 0.1999 - val_acc: 0.9250\n",
            "Epoch 12/100\n",
            "100/100 [==============================] - 30s 304ms/step - loss: 0.1288 - acc: 0.9510 - val_loss: 0.1933 - val_acc: 0.9250\n",
            "Epoch 13/100\n",
            "100/100 [==============================] - 30s 304ms/step - loss: 0.1501 - acc: 0.9410 - val_loss: 0.1895 - val_acc: 0.9260\n",
            "Epoch 14/100\n",
            "100/100 [==============================] - 31s 307ms/step - loss: 0.1315 - acc: 0.9465 - val_loss: 0.1873 - val_acc: 0.9230\n",
            "Epoch 15/100\n",
            "100/100 [==============================] - 31s 308ms/step - loss: 0.1257 - acc: 0.9485 - val_loss: 0.1742 - val_acc: 0.9310\n",
            "Epoch 16/100\n",
            "100/100 [==============================] - 31s 307ms/step - loss: 0.1224 - acc: 0.9535 - val_loss: 0.2486 - val_acc: 0.9150\n",
            "Epoch 17/100\n",
            "100/100 [==============================] - 30s 304ms/step - loss: 0.1176 - acc: 0.9550 - val_loss: 0.1809 - val_acc: 0.9340\n",
            "Epoch 18/100\n",
            "100/100 [==============================] - 30s 304ms/step - loss: 0.1069 - acc: 0.9605 - val_loss: 0.1847 - val_acc: 0.9240\n",
            "Epoch 19/100\n",
            "100/100 [==============================] - 31s 306ms/step - loss: 0.1007 - acc: 0.9660 - val_loss: 0.1741 - val_acc: 0.9350\n",
            "Epoch 20/100\n",
            "100/100 [==============================] - 30s 303ms/step - loss: 0.1066 - acc: 0.9560 - val_loss: 0.1796 - val_acc: 0.9330\n",
            "Epoch 21/100\n",
            "100/100 [==============================] - 31s 305ms/step - loss: 0.0994 - acc: 0.9585 - val_loss: 0.1982 - val_acc: 0.9260\n",
            "Epoch 22/100\n",
            "100/100 [==============================] - 30s 305ms/step - loss: 0.0908 - acc: 0.9660 - val_loss: 0.1925 - val_acc: 0.9260\n",
            "Epoch 23/100\n",
            "100/100 [==============================] - 30s 304ms/step - loss: 0.0852 - acc: 0.9655 - val_loss: 0.2297 - val_acc: 0.9250\n",
            "Epoch 24/100\n",
            "100/100 [==============================] - 30s 304ms/step - loss: 0.0917 - acc: 0.9645 - val_loss: 0.1741 - val_acc: 0.9370\n",
            "Epoch 25/100\n",
            "100/100 [==============================] - 30s 303ms/step - loss: 0.0854 - acc: 0.9630 - val_loss: 0.1836 - val_acc: 0.9360\n",
            "Epoch 26/100\n",
            "100/100 [==============================] - 31s 305ms/step - loss: 0.0728 - acc: 0.9700 - val_loss: 0.1846 - val_acc: 0.9400\n",
            "Epoch 27/100\n",
            "100/100 [==============================] - 31s 306ms/step - loss: 0.0815 - acc: 0.9750 - val_loss: 0.2526 - val_acc: 0.9250\n",
            "Epoch 28/100\n",
            "100/100 [==============================] - 30s 303ms/step - loss: 0.0663 - acc: 0.9740 - val_loss: 0.1979 - val_acc: 0.9350\n",
            "Epoch 29/100\n",
            "100/100 [==============================] - 31s 307ms/step - loss: 0.0652 - acc: 0.9760 - val_loss: 0.1812 - val_acc: 0.9370\n",
            "Epoch 30/100\n",
            "100/100 [==============================] - 31s 306ms/step - loss: 0.0681 - acc: 0.9730 - val_loss: 0.1881 - val_acc: 0.9290\n",
            "Epoch 31/100\n",
            "100/100 [==============================] - 31s 306ms/step - loss: 0.0618 - acc: 0.9800 - val_loss: 0.1997 - val_acc: 0.9310\n",
            "Epoch 32/100\n",
            "100/100 [==============================] - 31s 306ms/step - loss: 0.0643 - acc: 0.9745 - val_loss: 0.2103 - val_acc: 0.9290\n",
            "Epoch 33/100\n",
            "100/100 [==============================] - 31s 306ms/step - loss: 0.0771 - acc: 0.9755 - val_loss: 0.2072 - val_acc: 0.9330\n",
            "Epoch 34/100\n",
            "100/100 [==============================] - 31s 306ms/step - loss: 0.0562 - acc: 0.9770 - val_loss: 0.2442 - val_acc: 0.9240\n",
            "Epoch 35/100\n",
            "100/100 [==============================] - 31s 308ms/step - loss: 0.0539 - acc: 0.9770 - val_loss: 0.1985 - val_acc: 0.9390\n",
            "Epoch 36/100\n",
            "100/100 [==============================] - 31s 306ms/step - loss: 0.0595 - acc: 0.9765 - val_loss: 0.1913 - val_acc: 0.9390\n",
            "Epoch 37/100\n",
            "100/100 [==============================] - 31s 307ms/step - loss: 0.0454 - acc: 0.9825 - val_loss: 0.2041 - val_acc: 0.9310\n",
            "Epoch 38/100\n",
            "100/100 [==============================] - 31s 306ms/step - loss: 0.0574 - acc: 0.9815 - val_loss: 0.2217 - val_acc: 0.9290\n",
            "Epoch 39/100\n",
            "100/100 [==============================] - 31s 307ms/step - loss: 0.0507 - acc: 0.9790 - val_loss: 0.1993 - val_acc: 0.9350\n",
            "Epoch 40/100\n",
            "100/100 [==============================] - 31s 308ms/step - loss: 0.0467 - acc: 0.9825 - val_loss: 0.2036 - val_acc: 0.9340\n",
            "Epoch 41/100\n",
            "100/100 [==============================] - 31s 309ms/step - loss: 0.0601 - acc: 0.9760 - val_loss: 0.1906 - val_acc: 0.9360\n",
            "Epoch 42/100\n",
            "100/100 [==============================] - 31s 309ms/step - loss: 0.0468 - acc: 0.9835 - val_loss: 0.3053 - val_acc: 0.9200\n",
            "Epoch 43/100\n",
            "100/100 [==============================] - 31s 307ms/step - loss: 0.0490 - acc: 0.9805 - val_loss: 0.2265 - val_acc: 0.9350\n",
            "Epoch 44/100\n",
            "100/100 [==============================] - 31s 307ms/step - loss: 0.0505 - acc: 0.9810 - val_loss: 0.2309 - val_acc: 0.9350\n",
            "Epoch 45/100\n",
            "100/100 [==============================] - 31s 309ms/step - loss: 0.0389 - acc: 0.9835 - val_loss: 0.1959 - val_acc: 0.9400\n",
            "Epoch 46/100\n",
            "100/100 [==============================] - 31s 307ms/step - loss: 0.0469 - acc: 0.9830 - val_loss: 0.2907 - val_acc: 0.9240\n",
            "Epoch 47/100\n",
            "100/100 [==============================] - 31s 307ms/step - loss: 0.0410 - acc: 0.9860 - val_loss: 0.2105 - val_acc: 0.9310\n",
            "Epoch 48/100\n",
            "100/100 [==============================] - 31s 307ms/step - loss: 0.0424 - acc: 0.9870 - val_loss: 0.3194 - val_acc: 0.9270\n",
            "Epoch 49/100\n",
            "100/100 [==============================] - 31s 307ms/step - loss: 0.0463 - acc: 0.9805 - val_loss: 0.3494 - val_acc: 0.9120\n",
            "Epoch 50/100\n",
            "100/100 [==============================] - 31s 309ms/step - loss: 0.0370 - acc: 0.9860 - val_loss: 0.2246 - val_acc: 0.9340\n",
            "Epoch 51/100\n",
            "100/100 [==============================] - 31s 309ms/step - loss: 0.0273 - acc: 0.9890 - val_loss: 0.2439 - val_acc: 0.9370\n",
            "Epoch 52/100\n",
            "100/100 [==============================] - 31s 309ms/step - loss: 0.0474 - acc: 0.9815 - val_loss: 0.2671 - val_acc: 0.9230\n",
            "Epoch 53/100\n",
            "100/100 [==============================] - 31s 307ms/step - loss: 0.0381 - acc: 0.9855 - val_loss: 0.2541 - val_acc: 0.9270\n",
            "Epoch 54/100\n",
            "100/100 [==============================] - 31s 310ms/step - loss: 0.0435 - acc: 0.9840 - val_loss: 0.2330 - val_acc: 0.9310\n",
            "Epoch 55/100\n",
            "100/100 [==============================] - 31s 309ms/step - loss: 0.0358 - acc: 0.9865 - val_loss: 0.2208 - val_acc: 0.9390\n",
            "Epoch 56/100\n",
            "100/100 [==============================] - 31s 307ms/step - loss: 0.0387 - acc: 0.9870 - val_loss: 0.3232 - val_acc: 0.9280\n",
            "Epoch 57/100\n",
            "100/100 [==============================] - 31s 310ms/step - loss: 0.0382 - acc: 0.9860 - val_loss: 0.2330 - val_acc: 0.9390\n",
            "Epoch 58/100\n",
            "100/100 [==============================] - 31s 311ms/step - loss: 0.0285 - acc: 0.9895 - val_loss: 0.2282 - val_acc: 0.9370\n",
            "Epoch 59/100\n",
            "100/100 [==============================] - 31s 308ms/step - loss: 0.0290 - acc: 0.9890 - val_loss: 0.2208 - val_acc: 0.9320\n",
            "Epoch 60/100\n",
            "100/100 [==============================] - 31s 307ms/step - loss: 0.0407 - acc: 0.9880 - val_loss: 0.3108 - val_acc: 0.9280\n",
            "Epoch 61/100\n",
            "100/100 [==============================] - 30s 305ms/step - loss: 0.0347 - acc: 0.9875 - val_loss: 0.2190 - val_acc: 0.9310\n",
            "Epoch 62/100\n",
            "100/100 [==============================] - 30s 304ms/step - loss: 0.0182 - acc: 0.9945 - val_loss: 0.2435 - val_acc: 0.9350\n",
            "Epoch 63/100\n",
            "100/100 [==============================] - 30s 302ms/step - loss: 0.0319 - acc: 0.9885 - val_loss: 0.2622 - val_acc: 0.9200\n",
            "Epoch 64/100\n",
            "100/100 [==============================] - 30s 303ms/step - loss: 0.0257 - acc: 0.9905 - val_loss: 0.2429 - val_acc: 0.9370\n",
            "Epoch 65/100\n",
            "100/100 [==============================] - 30s 304ms/step - loss: 0.0200 - acc: 0.9935 - val_loss: 0.2668 - val_acc: 0.9360\n",
            "Epoch 66/100\n",
            "100/100 [==============================] - 30s 300ms/step - loss: 0.0314 - acc: 0.9885 - val_loss: 0.2517 - val_acc: 0.9380\n",
            "Epoch 67/100\n",
            "100/100 [==============================] - 30s 298ms/step - loss: 0.0413 - acc: 0.9890 - val_loss: 0.2109 - val_acc: 0.9430\n",
            "Epoch 68/100\n",
            "100/100 [==============================] - 30s 300ms/step - loss: 0.0258 - acc: 0.9890 - val_loss: 0.2030 - val_acc: 0.9410\n",
            "Epoch 69/100\n",
            "100/100 [==============================] - 30s 305ms/step - loss: 0.0205 - acc: 0.9920 - val_loss: 0.2620 - val_acc: 0.9350\n",
            "Epoch 70/100\n",
            "100/100 [==============================] - 30s 304ms/step - loss: 0.0266 - acc: 0.9915 - val_loss: 0.3619 - val_acc: 0.9280\n",
            "Epoch 71/100\n",
            "100/100 [==============================] - 30s 304ms/step - loss: 0.0272 - acc: 0.9925 - val_loss: 0.2633 - val_acc: 0.9310\n",
            "Epoch 72/100\n",
            "100/100 [==============================] - 31s 305ms/step - loss: 0.0310 - acc: 0.9905 - val_loss: 0.2274 - val_acc: 0.9350\n",
            "Epoch 73/100\n",
            "100/100 [==============================] - 30s 304ms/step - loss: 0.0276 - acc: 0.9910 - val_loss: 0.2847 - val_acc: 0.9350\n",
            "Epoch 74/100\n",
            "100/100 [==============================] - 31s 305ms/step - loss: 0.0289 - acc: 0.9870 - val_loss: 0.2879 - val_acc: 0.9330\n",
            "Epoch 75/100\n",
            "100/100 [==============================] - 31s 310ms/step - loss: 0.0238 - acc: 0.9915 - val_loss: 0.2676 - val_acc: 0.9350\n",
            "Epoch 76/100\n",
            "100/100 [==============================] - 31s 309ms/step - loss: 0.0195 - acc: 0.9910 - val_loss: 0.2401 - val_acc: 0.9400\n",
            "Epoch 77/100\n",
            "100/100 [==============================] - 31s 306ms/step - loss: 0.0241 - acc: 0.9900 - val_loss: 0.3442 - val_acc: 0.9290\n",
            "Epoch 78/100\n",
            "100/100 [==============================] - 30s 303ms/step - loss: 0.0207 - acc: 0.9925 - val_loss: 0.2528 - val_acc: 0.9380\n",
            "Epoch 79/100\n",
            "100/100 [==============================] - 31s 305ms/step - loss: 0.0283 - acc: 0.9915 - val_loss: 0.2726 - val_acc: 0.9320\n",
            "Epoch 80/100\n",
            "100/100 [==============================] - 30s 304ms/step - loss: 0.0200 - acc: 0.9925 - val_loss: 0.2684 - val_acc: 0.9420\n",
            "Epoch 81/100\n",
            "100/100 [==============================] - 31s 306ms/step - loss: 0.0185 - acc: 0.9940 - val_loss: 0.2849 - val_acc: 0.9360\n",
            "Epoch 82/100\n",
            "100/100 [==============================] - 31s 307ms/step - loss: 0.0227 - acc: 0.9920 - val_loss: 0.2461 - val_acc: 0.9420\n",
            "Epoch 83/100\n",
            "100/100 [==============================] - 31s 306ms/step - loss: 0.0293 - acc: 0.9890 - val_loss: 0.2542 - val_acc: 0.9330\n",
            "Epoch 84/100\n",
            "100/100 [==============================] - 31s 308ms/step - loss: 0.0140 - acc: 0.9950 - val_loss: 0.2894 - val_acc: 0.9330\n",
            "Epoch 85/100\n",
            "100/100 [==============================] - 31s 308ms/step - loss: 0.0205 - acc: 0.9945 - val_loss: 0.3654 - val_acc: 0.9250\n",
            "Epoch 86/100\n",
            "100/100 [==============================] - 31s 309ms/step - loss: 0.0172 - acc: 0.9935 - val_loss: 0.2728 - val_acc: 0.9380\n",
            "Epoch 87/100\n",
            "100/100 [==============================] - 31s 305ms/step - loss: 0.0150 - acc: 0.9945 - val_loss: 0.2900 - val_acc: 0.9410\n",
            "Epoch 88/100\n",
            "100/100 [==============================] - 31s 307ms/step - loss: 0.0283 - acc: 0.9890 - val_loss: 0.2530 - val_acc: 0.9340\n",
            "Epoch 89/100\n",
            "100/100 [==============================] - 31s 307ms/step - loss: 0.0228 - acc: 0.9915 - val_loss: 0.3541 - val_acc: 0.9320\n",
            "Epoch 90/100\n",
            "100/100 [==============================] - 31s 305ms/step - loss: 0.0250 - acc: 0.9900 - val_loss: 0.2861 - val_acc: 0.9370\n",
            "Epoch 91/100\n",
            "100/100 [==============================] - 31s 307ms/step - loss: 0.0157 - acc: 0.9955 - val_loss: 0.3659 - val_acc: 0.9260\n",
            "Epoch 92/100\n",
            "100/100 [==============================] - 31s 308ms/step - loss: 0.0182 - acc: 0.9950 - val_loss: 0.3240 - val_acc: 0.9340\n",
            "Epoch 93/100\n",
            "100/100 [==============================] - 31s 309ms/step - loss: 0.0178 - acc: 0.9940 - val_loss: 0.3282 - val_acc: 0.9340\n",
            "Epoch 94/100\n",
            "100/100 [==============================] - 31s 308ms/step - loss: 0.0191 - acc: 0.9945 - val_loss: 0.2708 - val_acc: 0.9350\n",
            "Epoch 95/100\n",
            "100/100 [==============================] - 31s 307ms/step - loss: 0.0168 - acc: 0.9935 - val_loss: 0.2603 - val_acc: 0.9430\n",
            "Epoch 96/100\n",
            "100/100 [==============================] - 31s 306ms/step - loss: 0.0245 - acc: 0.9915 - val_loss: 0.2339 - val_acc: 0.9410\n",
            "Epoch 97/100\n",
            "100/100 [==============================] - 31s 306ms/step - loss: 0.0153 - acc: 0.9935 - val_loss: 0.2479 - val_acc: 0.9340\n",
            "Epoch 98/100\n",
            "100/100 [==============================] - 31s 307ms/step - loss: 0.0336 - acc: 0.9890 - val_loss: 0.2215 - val_acc: 0.9360\n",
            "Epoch 99/100\n",
            "100/100 [==============================] - 31s 305ms/step - loss: 0.0233 - acc: 0.9945 - val_loss: 0.3235 - val_acc: 0.9280\n",
            "Epoch 100/100\n",
            "100/100 [==============================] - 31s 308ms/step - loss: 0.0179 - acc: 0.9955 - val_loss: 0.2736 - val_acc: 0.9350\n"
          ]
        }
      ]
    },
    {
      "cell_type": "code",
      "metadata": {
        "colab": {
          "base_uri": "https://localhost:8080/",
          "height": 545
        },
        "id": "l3dkh8U2TjgN",
        "outputId": "c7f5ec96-b611-459f-a9eb-c412da9a3046"
      },
      "source": [
        "acc = history.history['acc']\n",
        "val_acc = history.history['val_acc']\n",
        "loss = history.history['loss']\n",
        "val_loss = history.history['val_loss']\n",
        "\n",
        "epochs = range(1, len(acc) + 1)\n",
        "\n",
        "plt.plot(epochs, acc, 'bo', label='Training acc')\n",
        "plt.plot(epochs, val_acc, 'b', label='Validation acc')\n",
        "plt.title('Training and validation accuracy')\n",
        "plt.legend()\n",
        "\n",
        "plt.figure()\n",
        "\n",
        "plt.plot(epochs, loss, 'bo', label='Training loss')\n",
        "plt.plot(epochs, val_loss, 'b', label='Validation loss')\n",
        "plt.title('Training and validation loss')\n",
        "plt.legend()\n",
        "\n",
        "plt.show()"
      ],
      "execution_count": 27,
      "outputs": [
        {
          "output_type": "display_data",
          "data": {
            "image/png": "[encoded data removed]",
            "text/plain": [
              "<Figure size 432x288 with 1 Axes>"
            ]
          },
          "metadata": {
            "needs_background": "light"
          }
        },
        {
          "output_type": "display_data",
          "data": {
            "image/png": "[encoded data removed]",
            "text/plain": [
              "<Figure size 432x288 with 1 Axes>"
            ]
          },
          "metadata": {
            "needs_background": "light"
          }
        }
      ]
    },
    {
      "cell_type": "code",
      "metadata": {
        "colab": {
          "base_uri": "https://localhost:8080/",
          "height": 545
        },
        "id": "QQQZTISATw3Q",
        "outputId": "fdbad2f6-fcff-4021-b534-889abf793d16"
      },
      "source": [
        "def smooth_curve(points, factor=0.8):\n",
        "  smoothed_points = []\n",
        "  for point in points:\n",
        "    if smoothed_points:\n",
        "      previous = smoothed_points[-1]\n",
        "      smoothed_points.append(previous * factor + point * (1 - factor))\n",
        "    else:\n",
        "      smoothed_points.append(point)\n",
        "  return smoothed_points\n",
        "\n",
        "plt.plot(epochs, smooth_curve(acc), 'bo', label='Smoothed training acc')\n",
        "plt.plot(epochs, smooth_curve(val_acc), 'b', label='Smoothed validation acc')\n",
        "plt.title('Training and validation accuracy')\n",
        "plt.legend()\n",
        "\n",
        "plt.figure()\n",
        "\n",
        "plt.plot(epochs, smooth_curve(loss), 'bo', label='Smoothed training loss')\n",
        "plt.plot(epochs, smooth_curve(val_loss), 'b', label='Smoothed validation loss')\n",
        "plt.title('Training and validation loss')\n",
        "plt.legend()\n",
        "\n",
        "plt.show()"
      ],
      "execution_count": 28,
      "outputs": [
        {
          "output_type": "display_data",
          "data": {
            "image/png": "[encoded data removed]",
            "text/plain": [
              "<Figure size 432x288 with 1 Axes>"
            ]
          },
          "metadata": {
            "needs_background": "light"
          }
        },
        {
          "output_type": "display_data",
          "data": {
            "image/png": "[encoded data removed]",
            "text/plain": [
              "<Figure size 432x288 with 1 Axes>"
            ]
          },
          "metadata": {
            "needs_background": "light"
          }
        }
      ]
    },
    {
      "cell_type": "code",
      "metadata": {
        "colab": {
          "base_uri": "https://localhost:8080/"
        },
        "id": "cbukpH3scM3j",
        "outputId": "bd2794a0-ed66-46b3-ef47-d52f43e52416"
      },
      "source": [
        "test_generator = test_datagen.flow_from_directory(\n",
        "    test_dir,\n",
        "    target_size=(150, 150),\n",
        "    batch_size=20,\n",
        "    class_mode='binary')\n",
        "\n",
        "test_loss, test_acc = model.evaluate_generator(test_generator, steps=50)\n",
        "print('test acc:', test_acc)"
      ],
      "execution_count": 29,
      "outputs": [
        {
          "output_type": "stream",
          "name": "stdout",
          "text": [
            "Found 1000 images belonging to 2 classes.\n"
          ]
        },
        {
          "output_type": "stream",
          "name": "stderr",
          "text": [
            "/usr/local/lib/python3.7/dist-packages/keras/engine/training.py:2006: UserWarning: `Model.evaluate_generator` is deprecated and will be removed in a future version. Please use `Model.evaluate`, which supports generators.\n",
            "  warnings.warn('`Model.evaluate_generator` is deprecated and '\n"
          ]
        },
        {
          "output_type": "stream",
          "name": "stdout",
          "text": [
            "test acc: 0.9409999847412109\n"
          ]
        }
      ]
    },
    {
      "cell_type": "code",
      "metadata": {
        "id": "WrhzrpU9hyid"
      },
      "source": [
        ""
      ],
      "execution_count": null,
      "outputs": []
    }
  ]
}